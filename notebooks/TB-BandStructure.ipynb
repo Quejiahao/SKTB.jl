{
 "cells": [
  {
   "cell_type": "code",
   "execution_count": 1,
   "metadata": {
    "collapsed": true
   },
   "outputs": [],
   "source": [
    "push!(LOAD_PATH, \"..\")\n",
    "\n",
    "using ASE\n",
    "using MatSciPy\n",
    "using PyPlot\n",
    "using PyCall\n",
    "using TightBinding\n",
    "\n",
    "import NRLTB"
   ]
  },
  {
   "cell_type": "markdown",
   "metadata": {},
   "source": [
    "##Carbon\n",
    "#### first homogeneous system"
   ]
  },
  {
   "cell_type": "code",
   "execution_count": 2,
   "metadata": {
    "collapsed": false
   },
   "outputs": [
    {
     "name": "stdout",
     "output_type": "stream",
     "text": [
      "216"
     ]
    }
   ],
   "source": [
    "# create a n×n×n supercell for homogeneous Si lattice\n",
    "\n",
    "n=3\n",
    "at = bulk(\"C\"; cubic=true)\n",
    "at = repeat(at, (3, 3, 3))\n",
    "X = positions(at)\n",
    "set_pbc!(at, [true, true, true])\n",
    "# plot3D(X[1,:][:], X[2,:][:], X[3,:][:], \"b.\")\n",
    "print(length(at))"
   ]
  },
  {
   "cell_type": "code",
   "execution_count": 15,
   "metadata": {
    "collapsed": false
   },
   "outputs": [
    {
     "name": "stderr",
     "output_type": "stream",
     "text": [
      "WARNING: replacing module TightBinding\n",
      "WARNING: replacing module NRLTB\n"
     ]
    }
   ],
   "source": [
    "reload(\"TightBinding\")\n",
    "reload(\"NRLTB\")\n",
    "\n",
    "tbm = NRLTB.NRLTBModel(elem = NRLTB.C_sp)\n",
    "set_pbc!(at, [true, true, true])\n",
    "tbm.nkpoints = (2,2,2)\n",
    "\n",
    "K, E = TightBinding.band_structure_all(at, tbm);"
   ]
  },
  {
   "cell_type": "code",
   "execution_count": 16,
   "metadata": {
    "collapsed": false
   },
   "outputs": [
    {
     "data": {
      "text/plain": [
       "0.750234150411399"
      ]
     },
     "execution_count": 16,
     "metadata": {},
     "output_type": "execute_result"
    }
   ],
   "source": [
    "# take a very low temperature to approximate the fermi level at 0 temperature\n",
    "\n",
    "tbm.fixed_eF = false\n",
    "tbm.potential.beta = 300\n",
    "TightBinding.update_eF!(at, tbm)\n",
    "EF = tbm.eF"
   ]
  },
  {
   "cell_type": "code",
   "execution_count": 17,
   "metadata": {
    "collapsed": false
   },
   "outputs": [
    {
     "name": "stderr",
     "output_type": "stream",
     "text": [
      "WARNING: replacing module TightBinding\n",
      "WARNING: replacing module NRLTB\n"
     ]
    },
    {
     "name": "stdout",
     "output_type": "stream",
     "text": [
      " original curtoff radius = 10.5\n",
      " reduced cutoff radius = 8.75"
     ]
    }
   ],
   "source": [
    "### computation with a reduced cutoff radius\n",
    "reload(\"TightBinding\")\n",
    "reload(\"NRLTB\")\n",
    "\n",
    "Rc = NRLTB.C_sp.Rc\n",
    "NRLTB.C_sp.Rc = Rc * 5/6\n",
    "print(\" original curtoff radius = \", Rc, \"\\n reduced cutoff radius = \", NRLTB.C_sp.Rc)\n",
    "\n",
    "tbm = NRLTB.NRLTBModel(elem = NRLTB.C_sp)\n",
    "set_pbc!(at, [true, true, true])\n",
    "tbm.nkpoints = (2,2,2)\n",
    "\n",
    "K, E_rR = TightBinding.band_structure_all(at, tbm);"
   ]
  },
  {
   "cell_type": "code",
   "execution_count": 35,
   "metadata": {
    "collapsed": false
   },
   "outputs": [
    {
     "data": {
      "image/png": "[encoded data removed]",
      "text/plain": [
       "PyPlot.Figure(PyObject <matplotlib.figure.Figure object at 0x10e40810>)"
      ]
     },
     "metadata": {},
     "output_type": "display_data"
    },
    {
     "data": {
      "text/plain": [
       "1-element Array{Any,1}:\n",
       " PyObject <matplotlib.lines.Line2D object at 0xa003450>"
      ]
     },
     "execution_count": 35,
     "metadata": {},
     "output_type": "execute_result"
    }
   ],
   "source": [
    "HAR = 27.211\n",
    "\n",
    "F = E[:]\n",
    "IsortF = sortperm(F[:])\n",
    "plot(HAR * F[IsortF], \"b*\")\n",
    "hold\n",
    "\n",
    "FrR = E_rR[:]\n",
    "IsortFrR = sortperm(FrR[:])\n",
    "plot(HAR * FrR[IsortFrR], \"r.\")\n",
    "\n",
    "x = 1:7000\n",
    "y = x.^0 * EF * HAR\n",
    "plot(x,y, \"k-\")\n",
    "\n",
    "# axis([3400, 3600, 15, 30])"
   ]
  },
  {
   "cell_type": "code",
   "execution_count": 64,
   "metadata": {
    "collapsed": false
   },
   "outputs": [
    {
     "name": "stderr",
     "output_type": "stream",
     "text": [
      "WARNING: replacing module TightBinding\n",
      "WARNING: replacing module NRLTB\n"
     ]
    },
    {
     "name": "stdout",
     "output_type": "stream",
     "text": [
      "number of atoms = 8\n"
     ]
    }
   ],
   "source": [
    "# plot band structure in the Brilioun zone\n",
    "# use a signle cell\n",
    "\n",
    "reload(\"TightBinding\")\n",
    "reload(\"NRLTB\")\n",
    "\n",
    "n=1\n",
    "at = bulk(\"C\"; cubic=true)\n",
    "at = repeat(at, (n, n, n))\n",
    "println(\"number of atoms = \", length(at))\n",
    "\n",
    "set_pbc!(at, [true, true, true])\n",
    "tbm = NRLTB.NRLTBModel(elem = NRLTB.C_sp)\n",
    "tbm.nkpoints = (16,16,16)\n",
    "\n",
    "nb = 4\n",
    "K, E = TightBinding.band_structure_near_eF(nb, at, tbm);"
   ]
  },
  {
   "cell_type": "code",
   "execution_count": 65,
   "metadata": {
    "collapsed": false
   },
   "outputs": [
    {
     "data": {
      "text/plain": [
       "0.7571077050035883"
      ]
     },
     "execution_count": 65,
     "metadata": {},
     "output_type": "execute_result"
    }
   ],
   "source": [
    "tbm.fixed_eF = false\n",
    "tbm.potential.beta = 500\n",
    "TightBinding.update_eF!(at, tbm)\n",
    "EF = tbm.eF"
   ]
  },
  {
   "cell_type": "code",
   "execution_count": 74,
   "metadata": {
    "collapsed": false
   },
   "outputs": [
    {
     "data": {
      "image/png": "[encoded data removed]",
      "text/plain": [
       "PyPlot.Figure(PyObject <matplotlib.figure.Figure object at 0x16d4f2d0>)"
      ]
     },
     "metadata": {},
     "output_type": "display_data"
    },
    {
     "data": {
      "text/plain": [
       "1-element Array{Any,1}:\n",
       " PyObject <matplotlib.lines.Line2D object at 0x17054510>"
      ]
     },
     "execution_count": 74,
     "metadata": {},
     "output_type": "execute_result"
    }
   ],
   "source": [
    "n = size(K,2)\n",
    "kk = zeros(n)\n",
    "for k = 1:n\n",
    "    kk[k] = norm(K[:,k])\n",
    "end\n",
    "\n",
    "for j = nb-3 : nb+5\n",
    "    plot(kk, E[j,:][:], \".\")\n",
    "end\n",
    "x = -0.1:0.01:1.1\n",
    "y = x.^0 * tbm.eF\n",
    "plot(x,y, \"k-\")"
   ]
  },
  {
   "cell_type": "markdown",
   "metadata": {},
   "source": [
    "#### carbon with a vacancy"
   ]
  },
  {
   "cell_type": "code",
   "execution_count": 75,
   "metadata": {
    "collapsed": false
   },
   "outputs": [
    {
     "name": "stdout",
     "output_type": "stream",
     "text": [
      "215"
     ]
    }
   ],
   "source": [
    "# create a vacancy by removing an atom at center\n",
    "\n",
    "using PyCall\n",
    "@pyimport ase\n",
    "\n",
    "n=3\n",
    "# n=3 means the defected system has 215 atoms, and should be named C215\n",
    "at = bulk(\"C\"; cubic=true)\n",
    "at = repeat(at, (n, n, n))\n",
    "\n",
    "X = positions(at)\n",
    "na = length(at)\n",
    "Y = zeros(3,na-1)\n",
    "Y = X[:,1:na-1]\n",
    "\n",
    "at_vac = ASEAtoms( ase.Atoms(\"C215\") )\n",
    "set_cell!(at_vac, cell(at))\n",
    "set_positions!(at_vac, Y)\n",
    "set_pbc!(at_vac, [true, true, true])\n",
    "\n",
    "X_vac = positions(at_vac)\n",
    "# plot3D(X_vac[1,:][:], X_vac[2,:][:], X_vac[3,:][:], \"b.\")\n",
    "print(length(at_vac))"
   ]
  },
  {
   "cell_type": "code",
   "execution_count": 76,
   "metadata": {
    "collapsed": false
   },
   "outputs": [
    {
     "name": "stderr",
     "output_type": "stream",
     "text": [
      "WARNING: replacing module TightBinding\n",
      "WARNING: replacing module NRLTB\n"
     ]
    }
   ],
   "source": [
    "reload(\"TightBinding\")\n",
    "reload(\"NRLTB\")\n",
    "\n",
    "tbm = NRLTB.NRLTBModel(elem = NRLTB.C_sp)\n",
    "set_pbc!(at, [true, true, true])\n",
    "tbm.nkpoints = (2,2,2)\n",
    "\n",
    "K, G = TightBinding.band_structure_all(at_vac, tbm);"
   ]
  },
  {
   "cell_type": "code",
   "execution_count": 77,
   "metadata": {
    "collapsed": false
   },
   "outputs": [
    {
     "data": {
      "text/plain": [
       "0.6930681825514337"
      ]
     },
     "execution_count": 77,
     "metadata": {},
     "output_type": "execute_result"
    }
   ],
   "source": [
    "tbm.fixed_eF = false\n",
    "tbm.potential.beta = 300\n",
    "TightBinding.update_eF!(at_vac, tbm)\n",
    "EF = tbm.eF"
   ]
  },
  {
   "cell_type": "code",
   "execution_count": 80,
   "metadata": {
    "collapsed": false
   },
   "outputs": [
    {
     "data": {
      "image/png": "[encoded data removed]",
      "text/plain": [
       "PyPlot.Figure(PyObject <matplotlib.figure.Figure object at 0x170280d0>)"
      ]
     },
     "metadata": {},
     "output_type": "display_data"
    },
    {
     "data": {
      "text/plain": [
       "1-element Array{Any,1}:\n",
       " PyObject <matplotlib.lines.Line2D object at 0xdaedb10>"
      ]
     },
     "execution_count": 80,
     "metadata": {},
     "output_type": "execute_result"
    }
   ],
   "source": [
    "# plot the eigenvalues\n",
    "HAR = 27.211\n",
    "\n",
    "H = G[:]\n",
    "Isort = sortperm(H[:])\n",
    "plot(HAR * H[Isort], \".\", color=\"blue\", linewidth=0.5)\n",
    "hold\n",
    "\n",
    "x = 1:7000\n",
    "y = x.^0 * tbm.eF * HAR\n",
    "plot(x,y)\n",
    "\n",
    "# compare with the homogeneous system\n",
    "plot(HAR * F[IsortF], \".\", color=\"red\", linewidth=0.5)"
   ]
  },
  {
   "cell_type": "code",
   "execution_count": null,
   "metadata": {
    "collapsed": true
   },
   "outputs": [],
   "source": []
  },
  {
   "cell_type": "markdown",
   "metadata": {},
   "source": [
    "## Silicon \n",
    "\n",
    "#### first homogeneous system"
   ]
  },
  {
   "cell_type": "code",
   "execution_count": 36,
   "metadata": {
    "collapsed": false
   },
   "outputs": [
    {
     "name": "stdout",
     "output_type": "stream",
     "text": [
      "216"
     ]
    },
    {
     "data": {
      "text/plain": [
       "3x3 Array{Float64,2}:\n",
       " 16.29   0.0    0.0 \n",
       "  0.0   16.29   0.0 \n",
       "  0.0    0.0   16.29"
      ]
     },
     "execution_count": 36,
     "metadata": {},
     "output_type": "execute_result"
    }
   ],
   "source": [
    "# create a n×n×n supercell for homogeneous Si lattice\n",
    "\n",
    "n=3\n",
    "at = bulk(\"Si\"; cubic=true)\n",
    "at = repeat(at, (n, n, n))\n",
    "set_pbc!(at, [true, true, true])\n",
    "X = positions(at)\n",
    "# plot3D(X[1,:][:], X[2,:][:], X[3,:][:], \"b.\")\n",
    "print(length(at))\n",
    "cell(at)"
   ]
  },
  {
   "cell_type": "code",
   "execution_count": 37,
   "metadata": {
    "collapsed": false
   },
   "outputs": [
    {
     "name": "stderr",
     "output_type": "stream",
     "text": [
      "WARNING: replacing module TightBinding\n",
      "WARNING: replacing module NRLTB\n"
     ]
    }
   ],
   "source": [
    "reload(\"TightBinding\")\n",
    "reload(\"NRLTB\")\n",
    "\n",
    "tbm = NRLTB.NRLTBModel(elem = NRLTB.Si_sp)\n",
    "set_pbc!(at, [true, true, true])\n",
    "tbm.nkpoints = (2,2,2)\n",
    "\n",
    "K, E = TightBinding.band_structure_all(at, tbm);"
   ]
  },
  {
   "cell_type": "code",
   "execution_count": 38,
   "metadata": {
    "collapsed": false
   },
   "outputs": [
    {
     "data": {
      "text/plain": [
       "0.4509239975638428"
      ]
     },
     "execution_count": 38,
     "metadata": {},
     "output_type": "execute_result"
    }
   ],
   "source": [
    "# take a very low temperature to approximate the fermi level at 0 temperature\n",
    "\n",
    "tbm.fixed_eF = false\n",
    "tbm.potential.beta = 300\n",
    "TightBinding.update_eF!(at, tbm)\n",
    "EF = tbm.eF"
   ]
  },
  {
   "cell_type": "code",
   "execution_count": 39,
   "metadata": {
    "collapsed": false
   },
   "outputs": [
    {
     "name": "stderr",
     "output_type": "stream",
     "text": [
      "WARNING: replacing module TightBinding\n",
      "WARNING: replacing module NRLTB\n"
     ]
    },
    {
     "name": "stdout",
     "output_type": "stream",
     "text": [
      " original curtoff radius = 12.5\n",
      " reduced cutoff radius = 10.416666666666666"
     ]
    }
   ],
   "source": [
    "### computation with a reduced cutoff radius\n",
    "reload(\"TightBinding\")\n",
    "reload(\"NRLTB\")\n",
    "\n",
    "Rc = NRLTB.Si_sp.Rc\n",
    "NRLTB.Si_sp.Rc = Rc * 5/6\n",
    "print(\" original curtoff radius = \", Rc, \"\\n reduced cutoff radius = \", NRLTB.Si_sp.Rc)\n",
    "\n",
    "tbm = NRLTB.NRLTBModel(elem = NRLTB.Si_sp)\n",
    "set_pbc!(at, [true, true, true])\n",
    "tbm.nkpoints = (2,2,2)\n",
    "\n",
    "K, E_rR = TightBinding.band_structure_all(at, tbm);"
   ]
  },
  {
   "cell_type": "code",
   "execution_count": 40,
   "metadata": {
    "collapsed": false
   },
   "outputs": [
    {
     "data": {
      "image/png": "[encoded data removed]",
      "text/plain": [
       "PyPlot.Figure(PyObject <matplotlib.figure.Figure object at 0x46e1250>)"
      ]
     },
     "metadata": {},
     "output_type": "display_data"
    },
    {
     "data": {
      "text/plain": [
       "1-element Array{Any,1}:\n",
       " PyObject <matplotlib.lines.Line2D object at 0x1015d190>"
      ]
     },
     "execution_count": 40,
     "metadata": {},
     "output_type": "execute_result"
    }
   ],
   "source": [
    "HAR = 27.211\n",
    "\n",
    "F = E[:]\n",
    "IsortF = sortperm(F[:])\n",
    "plot(HAR * F[IsortF], \".\")\n",
    "hold\n",
    "\n",
    "FrR = E_rR[:]\n",
    "IsortFrR = sortperm(FrR[:])\n",
    "plot(HAR * FrR[IsortFrR], \"r.\")\n",
    "\n",
    "x = 1:7000\n",
    "y = x.^0 * EF * HAR\n",
    "plot(x,y, \"k-\")"
   ]
  },
  {
   "cell_type": "code",
   "execution_count": 31,
   "metadata": {
    "collapsed": false
   },
   "outputs": [
    {
     "name": "stderr",
     "output_type": "stream",
     "text": [
      "WARNING: replacing module TightBinding\n",
      "WARNING: replacing module NRLTB\n"
     ]
    },
    {
     "name": "stdout",
     "output_type": "stream",
     "text": [
      "number of atoms = 8\n"
     ]
    }
   ],
   "source": [
    "# plot band structure in the Brilioun zone\n",
    "# use a signle cell\n",
    "\n",
    "reload(\"TightBinding\")\n",
    "reload(\"NRLTB\")\n",
    "\n",
    "n=1\n",
    "at = bulk(\"Si\"; cubic=true)\n",
    "at = repeat(at, (n, n, n))\n",
    "println(\"number of atoms = \", length(at))\n",
    "\n",
    "set_pbc!(at, [true, true, true])\n",
    "tbm = NRLTB.NRLTBModel(elem = NRLTB.Si_sp)\n",
    "tbm.nkpoints = (16,16,16)\n",
    "\n",
    "nb = 4\n",
    "K, E = TightBinding.band_structure_near_eF(nb, at, tbm);"
   ]
  },
  {
   "cell_type": "code",
   "execution_count": 16,
   "metadata": {
    "collapsed": false
   },
   "outputs": [
    {
     "data": {
      "text/plain": [
       "0.4383723634469104"
      ]
     },
     "execution_count": 16,
     "metadata": {},
     "output_type": "execute_result"
    }
   ],
   "source": [
    "tbm.fixed_eF = false\n",
    "tbm.potential.beta = 500\n",
    "TightBinding.update_eF!(at, tbm)\n",
    "EF = tbm.eF"
   ]
  },
  {
   "cell_type": "code",
   "execution_count": 34,
   "metadata": {
    "collapsed": false
   },
   "outputs": [
    {
     "data": {
      "image/png": "[encoded data removed]",
      "text/plain": [
       "PyPlot.Figure(PyObject <matplotlib.figure.Figure object at 0xc4bbe90>)"
      ]
     },
     "metadata": {},
     "output_type": "display_data"
    },
    {
     "data": {
      "text/plain": [
       "1-element Array{Any,1}:\n",
       " PyObject <matplotlib.lines.Line2D object at 0xc4e3590>"
      ]
     },
     "execution_count": 34,
     "metadata": {},
     "output_type": "execute_result"
    }
   ],
   "source": [
    "n = size(K,2)\n",
    "kk = zeros(n)\n",
    "for k = 1:n\n",
    "    kk[k] = norm(K[:,k])\n",
    "end\n",
    "\n",
    "for j = nb+1 : nb+2\n",
    "    plot(kk, E[j,:][:], \".\")\n",
    "end\n",
    "x = -0.1:0.01:1.1\n",
    "y = x.^0 * tbm.eF\n",
    "plot(x,y, \"k-\")"
   ]
  },
  {
   "cell_type": "markdown",
   "metadata": {},
   "source": [
    "#### Si lattice with a vacancy"
   ]
  },
  {
   "cell_type": "code",
   "execution_count": 37,
   "metadata": {
    "collapsed": false
   },
   "outputs": [
    {
     "name": "stdout",
     "output_type": "stream",
     "text": [
      "215"
     ]
    }
   ],
   "source": [
    "# create a vacancy by removing an atom at center\n",
    "\n",
    "using PyCall\n",
    "@pyimport ase\n",
    "\n",
    "n=3\n",
    "# n=3 means the defected system has 215 atoms, and should be named Si215\n",
    "at = bulk(\"Si\"; cubic=true)\n",
    "at = repeat(at, (n, n, n))\n",
    "\n",
    "X = positions(at)\n",
    "na = length(at)\n",
    "Y = zeros(3,na-1)\n",
    "Y = X[:,1:na-1]\n",
    "\n",
    "at_vac = ASEAtoms( ase.Atoms(\"Si215\") )\n",
    "set_cell!(at_vac, cell(at))\n",
    "set_positions!(at_vac, Y)\n",
    "set_pbc!(at_vac, [true, true, true])\n",
    "\n",
    "X_vac = positions(at_vac)\n",
    "# plot3D(X_vac[1,:][:], X_vac[2,:][:], X_vac[3,:][:], \"b.\")\n",
    "print(length(at_vac))"
   ]
  },
  {
   "cell_type": "code",
   "execution_count": 38,
   "metadata": {
    "collapsed": false
   },
   "outputs": [
    {
     "name": "stderr",
     "output_type": "stream",
     "text": [
      "WARNING: replacing module TightBinding\n",
      "WARNING: replacing module NRLTB\n"
     ]
    }
   ],
   "source": [
    "reload(\"TightBinding\")\n",
    "reload(\"NRLTB\")\n",
    "\n",
    "tbm = NRLTB.NRLTBModel(elem = NRLTB.Si_sp)\n",
    "set_pbc!(at, [true, true, true])\n",
    "tbm.nkpoints = (2,2,2)\n",
    "\n",
    "K, G = TightBinding.band_structure_all(at_vac, tbm);"
   ]
  },
  {
   "cell_type": "code",
   "execution_count": 47,
   "metadata": {
    "collapsed": false
   },
   "outputs": [
    {
     "data": {
      "text/plain": [
       "0.37197205014467283"
      ]
     },
     "execution_count": 47,
     "metadata": {},
     "output_type": "execute_result"
    }
   ],
   "source": [
    "tbm.fixed_eF = false\n",
    "tbm.potential.beta = 300\n",
    "TightBinding.update_eF!(at_vac, tbm)\n",
    "EF = tbm.eF"
   ]
  },
  {
   "cell_type": "code",
   "execution_count": 59,
   "metadata": {
    "collapsed": false
   },
   "outputs": [
    {
     "data": {
      "image/png": "[encoded data removed]",
      "text/plain": [
       "PyPlot.Figure(PyObject <matplotlib.figure.Figure object at 0x88ea8d0>)"
      ]
     },
     "metadata": {},
     "output_type": "display_data"
    },
    {
     "data": {
      "text/plain": [
       "1-element Array{Any,1}:\n",
       " PyObject <matplotlib.lines.Line2D object at 0x101d6790>"
      ]
     },
     "execution_count": 59,
     "metadata": {},
     "output_type": "execute_result"
    }
   ],
   "source": [
    "# plot the eigenvalues\n",
    "HAR = 27.211\n",
    "\n",
    "H = G[:]\n",
    "Isort = sortperm(H[:])\n",
    "plot(HAR * H[Isort], \".\", color=\"blue\", linewidth=0.5)\n",
    "hold\n",
    "\n",
    "x = 1:7000\n",
    "y = x.^0 * tbm.eF * HAR\n",
    "plot(x,y)\n",
    "\n",
    "# compare with the homogeneous system\n",
    "plot(HAR * F[IsortF], \".\", color=\"red\", linewidth=0.5)"
   ]
  },
  {
   "cell_type": "code",
   "execution_count": null,
   "metadata": {
    "collapsed": true
   },
   "outputs": [],
   "source": []
  }
 ],
 "metadata": {
  "kernelspec": {
   "display_name": "Julia 0.4.0-rc4",
   "language": "julia",
   "name": "julia-0.4"
  },
  "language_info": {
   "file_extension": ".jl",
   "mimetype": "application/julia",
   "name": "julia",
   "version": "0.4.0"
  }
 },
 "nbformat": 4,
 "nbformat_minor": 0
}
