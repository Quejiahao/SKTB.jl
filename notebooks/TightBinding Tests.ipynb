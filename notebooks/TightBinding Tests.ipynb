{
 "cells": [
  {
   "cell_type": "code",
   "execution_count": 1,
   "metadata": {
    "collapsed": false
   },
   "outputs": [],
   "source": [
    "push!(LOAD_PATH, \"..\")\n",
    "using ASE\n",
    "using MatSciPy\n",
    "using PyPlot\n",
    "using PyCall\n",
    "using TightBinding"
   ]
  },
  {
   "cell_type": "markdown",
   "metadata": {},
   "source": [
    "### Test toy TB model for Al"
   ]
  },
  {
   "cell_type": "code",
   "execution_count": 3,
   "metadata": {
    "collapsed": false
   },
   "outputs": [
    {
     "name": "stdout",
     "output_type": "stream",
     "text": [
      "E = -15.758671486710963\n",
      "|f|∞ = 4.40619762898109e-16\n"
     ]
    }
   ],
   "source": [
    "# reload(\"Potentials\")\n",
    "# reload(\"tbtoymodel\")\n",
    "# reload(\"TightBinding\")\n",
    "# reload(\"MatSciPy\")\n",
    "tbm = TightBinding.ToyTB.ToyTBModel(r0=2.5, rcut=6.0)\n",
    "E = TightBinding.potential_energy(at, tbm)\n",
    "println(\"E = \", E)\n",
    "frc = TightBinding.forces(at, tbm)\n",
    "println(\"|f|∞ = \", norm(frc[:], Inf))"
   ]
  },
  {
   "cell_type": "code",
   "execution_count": 7,
   "metadata": {
    "collapsed": false
   },
   "outputs": [
    {
     "name": "stderr",
     "output_type": "stream",
     "text": [
      "WARNING: replacing module TightBinding\n",
      "WARNING: imported binding for NRLTB overwritten in module TightBinding\n"
     ]
    },
    {
     "name": "stdout",
     "output_type": "stream",
     "text": [
      "E = -"
     ]
    },
    {
     "name": "stderr",
     "output_type": "stream",
     "text": [
      "WARNING: could not attach metadata for @simd loop.\n"
     ]
    },
    {
     "name": "stdout",
     "output_type": "stream",
     "text": [
      "2.2402263145143673\n",
      "|f|∞ = 0.14601367064044007\n"
     ]
    }
   ],
   "source": [
    "set_pbc!(at, [false, false, false])\n",
    "\n",
    "reload(\"TightBinding\")\n",
    "tbm = TightBinding.ToyTB.ToyTBModel(r0=2.5, rcut=6.0)\n",
    "E = TightBinding.potential_energy(at, tbm)\n",
    "println(\"E = \", E)\n",
    "frc = TightBinding.forces(at, tbm)\n",
    "println(\"|f|∞ = \", norm(frc[:], Inf))"
   ]
  },
  {
   "cell_type": "code",
   "execution_count": 5,
   "metadata": {
    "collapsed": false
   },
   "outputs": [
    {
     "name": "stderr",
     "output_type": "stream",
     "text": [
      "WARNING: replacing module Potentials\n",
      "WARNING: replacing module TightBinding\n",
      "WARNING: replacing module ToyTB\n",
      "WARNING: could not attach metadata for @simd loop.\n"
     ]
    },
    {
     "name": "stdout",
     "output_type": "stream",
     "text": [
      "-----------------------------\n",
      "  p | error \n",
      "----|------------------------\n",
      "  2 | 1.4867346e-03 \n",
      "  3 | 1.4867270e-04 \n",
      "  4 | 1.4867263e-05 \n",
      "  5 | 1.4865886e-06 \n",
      "  6 | 1.5010215e-07 \n",
      "  7 | 2.4461734e-08 \n",
      "  8 | 3.1718760e-07 \n",
      "  9 | 3.1797765e-06 \n",
      " 10 | 3.8596093e-05 \n",
      " 11 | 3.8683979e-04 \n",
      " 12 | 3.9968029e-03 \n",
      "-----------------------------\n"
     ]
    }
   ],
   "source": [
    "reload(\"Potentials\")\n",
    "reload(\"TightBinding\")\n",
    "reload(\"tbtoymodel\")\n",
    "\n",
    "set_pbc!(at, [false, false, false])\n",
    "#set_pbc!(at, [true, true, true])\n",
    "\n",
    "tbm = TightBinding.ToyTB.ToyTBModel(r0=2.5, rcut=8.0)\n",
    "X = positions(at)\n",
    "f = TightBinding.potential_energy(at, tbm)\n",
    "df = TightBinding.forces(at, tbm)[:]\n",
    "    println(\"-----------------------------\")\n",
    "    println(\"  p | error \")\n",
    "    println(\"----|------------------------\")\n",
    "    for p = 2:12\n",
    "        h = 0.1^p\n",
    "        dfh = zeros(length(df))\n",
    "        for n = 1:length(df)\n",
    "            X[n] += h\n",
    "            set_positions!(at, X)\n",
    "            dfh[n] = (TightBinding.potential_energy(at, tbm) - f) / h\n",
    "            X[n] -= h\n",
    "        end\n",
    "    #@printf(\" %2d | %1.7e \\n\", p, norm(df - dfh, Inf))\n",
    "    @printf(\" %2d | %1.7e \\n\", p, norm(dfh + df, Inf))\n",
    "    end\n",
    "println(\"-----------------------------\")\n"
   ]
  },
  {
   "cell_type": "markdown",
   "metadata": {},
   "source": [
    "### Test NRL-TB model for Al"
   ]
  },
  {
   "cell_type": "code",
   "execution_count": 4,
   "metadata": {
    "collapsed": false
   },
   "outputs": [
    {
     "name": "stdout",
     "output_type": "stream",
     "text": [
      "2"
     ]
    }
   ],
   "source": [
    "at = bulk(\"Al\")#; cubic=true)\n",
    "at = repeat(at, (1, 2, 1))\n",
    "X = positions(at)\n",
    "print(length(at))"
   ]
  },
  {
   "cell_type": "code",
   "execution_count": 5,
   "metadata": {
    "collapsed": false,
    "scrolled": true
   },
   "outputs": [
    {
     "name": "stderr",
     "output_type": "stream",
     "text": [
      "WARNING: replacing module SparseTools\n",
      "WARNING: replacing module Potentials\n",
      "WARNING: replacing module TightBinding\n",
      "WARNING: replacing module NRLTB\n"
     ]
    },
    {
     "name": "stdout",
     "output_type": "stream",
     "text": [
      "-----------------------------\n",
      "  p | error \n",
      "----|------------------------\n",
      "  2 | 3.9513270e-04 \n",
      "  3 | 3.9401830e-05 \n",
      "  4 | 3.9391108e-06 \n",
      "  5 | 3.9409857e-07 \n",
      "  6 | 4.1020036e-08 \n",
      "  7 | 2.5032824e-08 \n",
      "  8 | 1.7763568e-07 \n",
      "  9 | 2.2220586e-06 \n",
      " 10 | 2.2646937e-05 \n",
      " 11 | 2.6157016e-04 \n",
      " 12 | 2.3931984e-03 \n",
      "-----------------------------\n"
     ]
    }
   ],
   "source": [
    "# TEST NRL-TB for Aluminum FCC\n",
    "# Test force\n",
    "\n",
    "reload(\"SparseTools\")\n",
    "reload(\"Potentials\")\n",
    "reload(\"TightBinding\")\n",
    "reload(\"NRLTB\")    \n",
    "BOHR = 0.52917721092 \n",
    "\n",
    "set_pbc!(at, [false, false, false])\n",
    "tbm = NRLTB.NRLTBModel(elem = NRLTB.Al_spd)\n",
    "tbm.nkpoints = (0,0,0)\n",
    "\n",
    "X = positions(at)\n",
    "f = TightBinding.potential_energy(at, tbm)\n",
    "df = TightBinding.forces(at, tbm)[:] # / BOHR\n",
    "    \n",
    "println(\"-----------------------------\")\n",
    "println(\"  p | error \")\n",
    "println(\"----|------------------------\")\n",
    "for p = 2:12\n",
    "    h = 0.1^p \n",
    "    dfh = zeros(length(df))\n",
    "    for n = 1:length(df)\n",
    "        X[n] += h\n",
    "        set_positions!(at, X)\n",
    "        dfh[n] = (TightBinding.potential_energy(at, tbm) - f) / h\n",
    "        X[n] -= h\n",
    "    end\n",
    "    @printf(\" %2d | %1.7e \\n\", p, norm(dfh + df, Inf))\n",
    "end\n",
    "println(\"-----------------------------\")"
   ]
  },
  {
   "cell_type": "code",
   "execution_count": 8,
   "metadata": {
    "collapsed": false
   },
   "outputs": [
    {
     "name": "stderr",
     "output_type": "stream",
     "text": [
      "WARNING: replacing module SparseTools\n",
      "WARNING: replacing module Potentials\n",
      "WARNING: replacing module TightBinding\n",
      "WARNING: replacing module NRLTB\n"
     ]
    },
    {
     "name": "stdout",
     "output_type": "stream",
     "text": [
      "-----------------------------\n",
      "  p | error \n",
      "----|------------------------\n",
      "  2 | 2.9797294e-03 \n",
      "  3 | 2.9797806e-04 \n",
      "  4 | 2.9797810e-05 \n",
      "  5 | 2.9798046e-06 \n",
      "  6 | 2.9807753e-07 \n",
      "  7 | 3.0982161e-08 \n",
      "  8 | 3.8411311e-08 \n",
      "  9 | 8.1532003e-07 \n",
      " 10 | 5.0653925e-06 \n",
      " 11 | 5.6677931e-05 \n",
      " 12 | 3.8463572e-04 \n",
      "-----------------------------\n"
     ]
    }
   ],
   "source": [
    "# TEST NRL-TB for Aluminum FCC\n",
    "# Test hessian (of eigenvalues)\n",
    "\n",
    "reload(\"SparseTools\")\n",
    "reload(\"Potentials\")\n",
    "reload(\"TightBinding\")\n",
    "reload(\"NRLTB\")    \n",
    "\n",
    "set_pbc!(at, [false, false, false])\n",
    "tbm = NRLTB.NRLTBModel(elem = NRLTB.Al_spd)\n",
    "tbm.nkpoints = (0,0,0)\n",
    "\n",
    "s=3\n",
    "\n",
    "tbm.nkpoints = (0,0,0)\n",
    "K, weight = TightBinding.monkhorstpackgrid(at, tbm)\n",
    "X = positions(at)\n",
    "TightBinding.update!(at, tbm)\n",
    "nlist = TightBinding.NeighbourList(tbm.Rcut, at)\n",
    "Nneig = 1\n",
    "for (n, neigs, r, R) in Sites(nlist)\n",
    "    if length(neigs) > Nneig\n",
    "        Nneig = length(neigs)\n",
    "    end\n",
    "end\n",
    "eps_n, psi_n = TightBinding.d_eigenstate_k(s, tbm, X, nlist, Nneig, K[:,1])\n",
    "f = eps_n[:] \n",
    "\n",
    "~, Hess_ɛ = TightBinding.hessian_k(X, tbm, nlist, Nneig, K[:,1])\n",
    "df = reshape(Hess_ɛ[s,:,:,:,:], 3*length(at), 3*length(at))\n",
    "\n",
    "println(\"-----------------------------\")\n",
    "println(\"  p | error \")\n",
    "println(\"----|------------------------\")\n",
    "for p = 2:12\n",
    "    h = 0.1^p \n",
    "    dfh = zeros(size(df))\n",
    "    for n = 1:length(X)\n",
    "        X[n] += h\n",
    "        set_positions!(at, X)\n",
    "        \n",
    "        TightBinding.update!(at, tbm)\n",
    "        nlist = TightBinding.NeighbourList(tbm.Rcut, at)\n",
    "        eps_n, psi_n = TightBinding.d_eigenstate_k(s, tbm, X, nlist, Nneig, K[:,1])\n",
    "        fh = eps_n[:]\n",
    "        \n",
    "        dfh[:,n] = (fh - f) / h\n",
    "        X[n] -= h\n",
    "    end\n",
    "    @printf(\" %2d | %1.7e \\n\", p, norm(dfh - df, Inf))\n",
    "end\n",
    "println(\"-----------------------------\")"
   ]
  },
  {
   "cell_type": "code",
   "execution_count": 17,
   "metadata": {
    "collapsed": false,
    "scrolled": true
   },
   "outputs": [
    {
     "name": "stderr",
     "output_type": "stream",
     "text": [
      "WARNING: replacing module SparseTools\n",
      "WARNING: replacing module Potentials\n",
      "WARNING: replacing module TightBinding\n",
      "WARNING: replacing module NRLTB\n"
     ]
    },
    {
     "name": "stdout",
     "output_type": "stream",
     "text": [
      "-----------------------------\n",
      "  p | error \n",
      "----|------------------------\n",
      "  2 | 9.7554539e-04 \n",
      "  3 | 9.6720799e-05 \n",
      "  4 | 9.6638225e-06 \n",
      "  5 | 9.6630632e-07 \n",
      "  6 | 9.6901536e-08 \n",
      "  7 | 1.2941155e-08 \n",
      "  8 | 4.7184479e-08 \n",
      "  9 | 2.9143354e-07 \n",
      " 10 | 1.6653345e-06 \n",
      " 11 | 2.6829532e-05 \n",
      " 12 | 3.3306691e-04 \n",
      "-----------------------------\n"
     ]
    }
   ],
   "source": [
    "# TEST NRL-TB for Aluminum FCC\n",
    "# Test hessian (for total energy)\n",
    "\n",
    "reload(\"SparseTools\")\n",
    "reload(\"Potentials\")\n",
    "reload(\"TightBinding\")\n",
    "reload(\"NRLTB\")    \n",
    "\n",
    "set_pbc!(at, [false, false, false])\n",
    "tbm = NRLTB.NRLTBModel(elem = NRLTB.Al_spd)\n",
    "tbm.nkpoints = (0,0,0)\n",
    "\n",
    "f = TightBinding.forces(at, tbm)[:]\n",
    "X = positions(at)\n",
    "Hess = TightBinding.hessian(at, tbm)\n",
    "df = reshape(Hess, 3*length(at), 3*length(at))\n",
    "\n",
    "println(\"-----------------------------\")\n",
    "println(\"  p | error \")\n",
    "println(\"----|------------------------\")\n",
    "for p = 2:12\n",
    "    h = 0.1^p \n",
    "    dfh = zeros(size(df))\n",
    "    for n = 1:length(X)\n",
    "        X[n] += h\n",
    "        set_positions!(at, X)\n",
    "        fh = TightBinding.forces(at, tbm)[:]        \n",
    "        dfh[:,n] = (fh - f) / h\n",
    "        X[n] -= h\n",
    "    end\n",
    "    @printf(\" %2d | %1.7e \\n\", p, norm( dfh[:] + df[:], Inf))\n",
    "end\n",
    "println(\"-----------------------------\")"
   ]
  },
  {
   "cell_type": "code",
   "execution_count": 20,
   "metadata": {
    "collapsed": false,
    "scrolled": true
   },
   "outputs": [
    {
     "name": "stderr",
     "output_type": "stream",
     "text": [
      "WARNING: replacing module SparseTools\n",
      "WARNING: replacing module Potentials\n",
      "WARNING: replacing module TightBinding\n",
      "WARNING: replacing module NRLTB\n"
     ]
    },
    {
     "name": "stdout",
     "output_type": "stream",
     "text": [
      "-----------------------------\n",
      "  p | error \n",
      "----|------------------------\n",
      "  2 | 9.8529916e-03 \n",
      "  3 | 8.4250365e-03 \n",
      "  4 | 8.4250060e-03 \n",
      "  5 | 8.4250057e-03 \n",
      "  6 | 8.4250057e-03 \n",
      "  7 | 8.4250059e-03 \n",
      "  8 | 8.4250068e-03 \n",
      "  9 | 8.4250621e-03 \n",
      " 10 | 8.4253601e-03 \n",
      " 11 | 8.4351862e-03 \n",
      " 12 | 8.4546478e-03 \n",
      "-----------------------------\n"
     ]
    }
   ],
   "source": [
    "# TEST NRL-TB for Aluminum FCC\n",
    "# Test d3E (third order derivative tensor of the total energy)\n",
    "\n",
    "reload(\"SparseTools\")\n",
    "reload(\"Potentials\")\n",
    "reload(\"TightBinding\")\n",
    "reload(\"NRLTB\")    \n",
    "\n",
    "set_pbc!(at, [false, false, false])\n",
    "tbm = NRLTB.NRLTBModel(elem = NRLTB.Al_spd)\n",
    "tbm.nkpoints = (0,0,0)\n",
    "\n",
    "X = positions(at)\n",
    "#        X[2,2] += 1.0e-15\n",
    "#        X[3,2] -= 1.0e-15\n",
    "#        set_positions!(at, X)\n",
    "Hess = TightBinding.hessian(at, tbm)\n",
    "f = reshape(Hess, 3*length(at), 3*length(at))\n",
    "Tens = TightBinding.d3E(at, tbm)\n",
    "df = reshape(Tens, 3*length(at), 3*length(at), 3*length(at))\n",
    "\n",
    "println(\"-----------------------------\")\n",
    "println(\"  p | error \")\n",
    "println(\"----|------------------------\")\n",
    "for p = 2:12\n",
    "    h = 0.1^p \n",
    "    dfh = zeros(size(df))\n",
    "    for n = 1:length(X)\n",
    "        X[n] += h\n",
    "        set_positions!(at, X)\n",
    "        Hess = TightBinding.hessian(at, tbm)\n",
    "        fh = reshape(Hess, 3*length(at), 3*length(at))\n",
    "        \n",
    "        dfh[n,:] = (fh - f) / h\n",
    "        X[n] -= h\n",
    "    end\n",
    "    @printf(\" %2d | %1.7e \\n\", p, norm( dfh[:] - df[:], Inf))\n",
    "end\n",
    "println(\"-----------------------------\")"
   ]
  },
  {
   "cell_type": "code",
   "execution_count": 51,
   "metadata": {
    "collapsed": false
   },
   "outputs": [
    {
     "name": "stderr",
     "output_type": "stream",
     "text": [
      "WARNING: replacing module SparseTools\n",
      "WARNING: replacing module Potentials\n",
      "WARNING: replacing module TightBinding\n",
      "WARNING: replacing module NRLTB\n"
     ]
    },
    {
     "name": "stdout",
     "output_type": "stream",
     "text": [
      "-----------------------------\n",
      "  p | error \n",
      "----|------------------------\n",
      "  2 | 1.2365594e-03 \n",
      "  3 | 1.2382382e-04 \n",
      "  4 | 1.2384032e-05 \n",
      "  5 | 1.2384210e-06 \n",
      "  6 | 1.2382920e-07 \n",
      "  7 | 1.2196280e-08 \n",
      "  8 | 1.0940495e-09 \n",
      "  9 | 2.8849625e-08 \n",
      " 10 | 2.6661526e-08 \n",
      "-----------------------------\n"
     ]
    }
   ],
   "source": [
    "# test fermi_dirac smearing\n",
    "\n",
    "reload(\"SparseTools\")\n",
    "reload(\"Potentials\")\n",
    "reload(\"TightBinding\")\n",
    "reload(\"NRLTB\")   \n",
    "\n",
    "ef = 1.0\n",
    "beta = 1.0\n",
    "epsn = 0.3\n",
    "\n",
    "f = TightBinding.fermi_dirac_d2(ef, beta, epsn)\n",
    "df = TightBinding.fermi_dirac_d3(ef, beta, epsn)\n",
    "\n",
    "println(\"-----------------------------\")\n",
    "println(\"  p | error \")\n",
    "println(\"----|------------------------\")\n",
    "for p = 2:10\n",
    "    h = 0.1^p \n",
    "    dfh = zeros(length(df))\n",
    "    for n = 1:length(df)\n",
    "        epsn += h\n",
    "        fh = TightBinding.fermi_dirac_d2(ef, beta, epsn)\n",
    "        dfh[n] = (fh - f) / h\n",
    "        epsn -= h\n",
    "    end\n",
    "    @printf(\" %2d | %1.7e \\n\", p, norm(dfh - df, Inf))\n",
    "end\n",
    "println(\"-----------------------------\")"
   ]
  },
  {
   "cell_type": "code",
   "execution_count": 10,
   "metadata": {
    "collapsed": false,
    "scrolled": true
   },
   "outputs": [
    {
     "name": "stderr",
     "output_type": "stream",
     "text": [
      "WARNING: replacing module SparseTools\n",
      "WARNING: replacing module Potentials\n",
      "WARNING: replacing module TightBinding\n",
      "WARNING: replacing module NRLTB\n"
     ]
    },
    {
     "name": "stdout",
     "output_type": "stream",
     "text": [
      "-----------------------------\n",
      "  p | error \n",
      "----|------------------------\n",
      "  2 | 1.5930766e-03 \n",
      "  3 | 1.5576992e-04 \n",
      "  4 | 1.5541830e-05 \n",
      "  5 | 1.5538196e-06 \n",
      "  6 | 1.5564084e-07 \n",
      "  7 | 1.6554841e-08 \n",
      "  8 | 1.6653345e-08 \n",
      "  9 | 2.5295189e-07 \n",
      " 10 | 1.6344273e-06 \n",
      " 11 | 3.1332893e-05 \n",
      " 12 | 3.3386867e-04 \n",
      "-----------------------------\n"
     ]
    }
   ],
   "source": [
    "# TEST NRL-TB for Aluminum FCC\n",
    "# test d_eigenstate : eigenvalues\n",
    "\n",
    "reload(\"SparseTools\")\n",
    "reload(\"Potentials\")\n",
    "reload(\"TightBinding\")\n",
    "reload(\"NRLTB\")    \n",
    "BOHR = 0.52917721092 \n",
    "\n",
    "s = 1\n",
    "\n",
    "set_pbc!(at, [false, false, false])\n",
    "tbm = NRLTB.NRLTBModel(elem = NRLTB.Al_spd)\n",
    "tbm.nkpoints = (0,0,0)\n",
    "K, weight = TightBinding.monkhorstpackgrid(at, tbm)\n",
    "\n",
    "X = positions(at)\n",
    "TightBinding.update!(at, tbm)\n",
    "\n",
    "nlist = TightBinding.NeighbourList(tbm.Rcut, at)\n",
    "Nneig = 1\n",
    "for (n, neigs, r, R) in Sites(nlist)\n",
    "    if length(neigs) > Nneig\n",
    "        Nneig = length(neigs)\n",
    "    end\n",
    "end\n",
    "\n",
    "eps_n, psi_n = TightBinding.d_eigenstate_k(s, tbm, X, nlist, Nneig, K[:,1])\n",
    "\n",
    "f = TightBinding.get_k_array(tbm, :epsn, K[:,1])[s]\n",
    "df = eps_n[:]\n",
    "\n",
    "println(\"-----------------------------\")\n",
    "println(\"  p | error \")\n",
    "println(\"----|------------------------\")\n",
    "for p = 2:12\n",
    "    h = 0.1^p \n",
    "    dfh = zeros(length(df))\n",
    "    for n = 1:length(df)\n",
    "        X[n] += h\n",
    "        set_positions!(at, X)\n",
    "        TightBinding.update!(at, tbm)\n",
    "        fh = TightBinding.get_k_array(tbm, :epsn, K[:,1])[s]\n",
    "        dfh[n] = (fh - f) / h\n",
    "        X[n] -= h\n",
    "    end\n",
    "    @printf(\" %2d | %1.7e \\n\", p, norm(dfh - df, Inf))\n",
    "end\n",
    "println(\"-----------------------------\")"
   ]
  },
  {
   "cell_type": "code",
   "execution_count": 9,
   "metadata": {
    "collapsed": false,
    "scrolled": true
   },
   "outputs": [
    {
     "name": "stderr",
     "output_type": "stream",
     "text": [
      "WARNING: replacing module SparseTools\n",
      "WARNING: replacing module Potentials\n",
      "WARNING: replacing module TightBinding\n",
      "WARNING: replacing module NRLTB\n"
     ]
    },
    {
     "name": "stdout",
     "output_type": "stream",
     "text": [
      "-----------------------------\n",
      "  p | error \n",
      "----|------------------------\n",
      "  2 | 1.3503005e+02 \n",
      "  3 | 1.7916602e-04 \n",
      "  4 | 1.7902184e-05 \n",
      "  5 | 1.7900218e-06 \n",
      "  6 | 1.7952114e-07 \n",
      "  7 | 1.5319154e-08 \n",
      "  8 | 7.3291674e-08 \n",
      "  9 | 6.1528752e-07 \n",
      " 10 | 1.3937964e-05 \n",
      " 11 | 6.9539720e-05 \n",
      " 12 | 8.7991192e-04 \n",
      "-----------------------------\n"
     ]
    }
   ],
   "source": [
    "# TEST NRL-TB for Aluminum FCC\n",
    "# test d_eigenstate : eigenfunctions\n",
    "\n",
    "reload(\"SparseTools\")\n",
    "reload(\"Potentials\")\n",
    "reload(\"TightBinding\")\n",
    "reload(\"NRLTB\")    \n",
    "BOHR = 0.52917721092 \n",
    "\n",
    "s = 1\n",
    "\n",
    "set_pbc!(at, [false, false, false])\n",
    "tbm = NRLTB.NRLTBModel(elem = NRLTB.Al_spd)\n",
    "tbm.nkpoints = (0,0,0)\n",
    "K, weight = TightBinding.monkhorstpackgrid(at, tbm)\n",
    "\n",
    "X = positions(at)\n",
    "TightBinding.update!(at, tbm)\n",
    "eps = TightBinding.get_k_array(tbm, :epsn, K[:,1])\n",
    "\n",
    "nlist = TightBinding.NeighbourList(tbm.Rcut, at)\n",
    "Nneig = 1\n",
    "for (n, neigs, r, R) in Sites(nlist)\n",
    "    if length(neigs) > Nneig\n",
    "        Nneig = length(neigs)\n",
    "    end\n",
    "end\n",
    "\n",
    "eps_n, psi_n = TightBinding.d_eigenstate_k(s, tbm, X, nlist, Nneig, K[:,1])\n",
    "\n",
    "f = TightBinding.get_k_array(tbm, :C, K[:,1])[:,s]\n",
    "df = reshape(psi_n, 3*length(at), length(eps))'\n",
    "\n",
    "println(\"-----------------------------\")\n",
    "println(\"  p | error \")\n",
    "println(\"----|------------------------\")\n",
    "for p = 2:12\n",
    "    h = 0.1^p \n",
    "    dfh = zeros(size(df))\n",
    "    for n = 1:size(df)[2]\n",
    "        X[n] += h\n",
    "        set_positions!(at, X)\n",
    "        TightBinding.update!(at, tbm)\n",
    "        fh = TightBinding.get_k_array(tbm, :C, K[:,1])[:,s]\n",
    "        dfh[:,n] = (fh - f) / h\n",
    "        X[n] -= h\n",
    "    end\n",
    "    @printf(\" %2d | %1.7e \\n\", p, norm(( dfh - df )[:], Inf))\n",
    "end\n",
    "println(\"-----------------------------\")"
   ]
  },
  {
   "cell_type": "code",
   "execution_count": 9,
   "metadata": {
    "collapsed": false
   },
   "outputs": [
    {
     "name": "stderr",
     "output_type": "stream",
     "text": [
      "WARNING: replacing module SparseTools\n",
      "WARNING: replacing module Potentials\n",
      "WARNING: replacing module TightBinding\n",
      "WARNING: replacing module NRLTB\n"
     ]
    },
    {
     "name": "stdout",
     "output_type": "stream",
     "text": [
      "-----------------------------\n",
      "  p | error \n",
      "----|------------------------\n",
      "  2 | 8.0597075e-04 \n",
      "  3 | 8.0563563e-05 \n",
      "  4 | 8.0563202e-06 \n",
      "  5 | 8.0566677e-07 \n",
      "  6 | 8.0383845e-08 \n",
      "  7 | 8.8819055e-09 \n",
      "  8 | 2.2204055e-07 \n",
      "  9 | 2.2204443e-06 \n",
      " 10 | 1.3322688e-05 \n",
      "-----------------------------\n"
     ]
    }
   ],
   "source": [
    "# TEST NRL-TB for Aluminum FCC\n",
    "# WITH PERIODIC BOUNDARY CONDITION ON THIRD DIMENSION\n",
    "# TAKE nkpoints = (0,0,4)\n",
    "\n",
    "reload(\"SparseTools\")\n",
    "reload(\"Potentials\")\n",
    "reload(\"TightBinding\")\n",
    "reload(\"NRLTB\")    \n",
    "BOHR = 0.52917721092 \n",
    "\n",
    "set_pbc!(at, [true, true, true])\n",
    "tbm = NRLTB.NRLTBModel(elem = NRLTB.Al_spd)\n",
    "tbm.nkpoints = (2,8,2)\n",
    "\n",
    "\n",
    "X = positions(at)\n",
    "f = TightBinding.potential_energy(at, tbm)\n",
    "df = TightBinding.forces(at, tbm)[:] # / BOHR\n",
    "    println(\"-----------------------------\")\n",
    "    println(\"  p | error \")\n",
    "    println(\"----|------------------------\")\n",
    "for p = 2:10\n",
    "    h = 0.1^p \n",
    "    dfh = zeros(length(df))\n",
    "    for n = 1:length(df)\n",
    "        X[n] += h\n",
    "        set_positions!(at, X)\n",
    "        dfh[n] = (TightBinding.potential_energy(at, tbm) - f) / h\n",
    "        X[n] -= h\n",
    "    end\n",
    "    @printf(\" %2d | %1.7e \\n\", p, norm(dfh + df, Inf))\n",
    "end\n",
    "println(\"-----------------------------\")"
   ]
  },
  {
   "cell_type": "markdown",
   "metadata": {
    "collapsed": true
   },
   "source": [
    "## TEST site energy and site force"
   ]
  },
  {
   "cell_type": "code",
   "execution_count": 63,
   "metadata": {
    "collapsed": false
   },
   "outputs": [
    {
     "name": "stdout",
     "output_type": "stream",
     "text": [
      "4"
     ]
    }
   ],
   "source": [
    "at = bulk(\"Al\")#; cubic=true)\n",
    "at = repeat(at, (1, 2, 2))\n",
    "X = positions(at)\n",
    "# set_pbc!(at, [false, false, false])\n",
    "# plot3D(X[1,:][:], X[2,:][:], X[3,:][:], \"b.\")\n",
    "print(length(at))"
   ]
  },
  {
   "cell_type": "code",
   "execution_count": 64,
   "metadata": {
    "collapsed": false
   },
   "outputs": [
    {
     "name": "stderr",
     "output_type": "stream",
     "text": [
      "WARNING: replacing module SparseTools\n",
      "WARNING: replacing module Potentials\n",
      "WARNING: replacing module TightBinding\n",
      "WARNING: replacing module NRLTB\n"
     ]
    },
    {
     "name": "stdout",
     "output_type": "stream",
     "text": [
      "E - ∑ E_i = 5.329070518200751e-15\n",
      "------------------------------\n",
      "Finite-difference test\n",
      "-----------------------------\n",
      "  p | error \n",
      "----|------------------------\n",
      "  2 | 1.8566967e-04 \n",
      "  3 | 1.8596655e-05 \n",
      "  4 | 1.8600000e-06 \n",
      "  5 | 1.8629885e-07 \n",
      "  6 | 2.0875614e-08 \n",
      "  7 | 3.4353978e-08 \n",
      "  8 | 2.5728062e-07 \n",
      "  9 | 3.7453059e-06 \n",
      " 10 | 2.9216484e-05 \n",
      " 11 | 2.1344333e-04 \n",
      " 12 | 3.4997035e-03 \n",
      "-----------------------------\n"
     ]
    }
   ],
   "source": [
    "# TEST NRL-TB site energy for Aluminum FCC\n",
    "# WITH open BOUNDARY CONDITION ON THIRD DIMENSION\n",
    "\n",
    "using AtomsInterface\n",
    "reload(\"SparseTools\")\n",
    "reload(\"Potentials\")\n",
    "reload(\"TightBinding\")\n",
    "reload(\"NRLTB\")  \n",
    "\n",
    "set_pbc!(at, [false, false, false])\n",
    "tbm = NRLTB.NRLTBModel(elem = NRLTB.Al_spd)\n",
    "tbm.nkpoints = (0,0,0)\n",
    "\n",
    "X = positions(at)\n",
    "\n",
    "Es_all = TightBinding.site_energy([1:length(at);], at, tbm)\n",
    "Etot = TightBinding.potential_energy(at, tbm)\n",
    "println(\"E - ∑ E_i = \", Etot - r_sum(Es_all))\n",
    "println(\"------------------------------\")\n",
    "\n",
    "println(\"Finite-difference test\")\n",
    "Es = TightBinding.site_energy(1, at, tbm)\n",
    "Fs = TightBinding.site_forces(1, at, tbm)[:]\n",
    "\n",
    "println(\"-----------------------------\")\n",
    "println(\"  p | error \")\n",
    "println(\"----|------------------------\")\n",
    "for p = 2:12\n",
    "    h = 0.1^p \n",
    "    dEsh = zeros(length(Fs))\n",
    "    for n = 1:length(Fs)\n",
    "        X[n] += h\n",
    "        set_positions!(at, X)\n",
    "        dEsh[n] = (TightBinding.site_energy(1, at, tbm) - Es) / h\n",
    "        X[n] -= h\n",
    "    end\n",
    "    @printf(\" %2d | %1.7e \\n\", p, norm(dEsh + Fs, Inf))\n",
    "end\n",
    "println(\"-----------------------------\")"
   ]
  },
  {
   "cell_type": "code",
   "execution_count": 7,
   "metadata": {
    "collapsed": false
   },
   "outputs": [
    {
     "name": "stderr",
     "output_type": "stream",
     "text": [
      "WARNING: replacing module SparseTools\n",
      "WARNING: replacing module Potentials\n",
      "WARNING: replacing module TightBinding\n",
      "WARNING: replacing module NRLTB\n"
     ]
    },
    {
     "name": "stdout",
     "output_type": "stream",
     "text": [
      "E - ∑ E_i = 0.0\n",
      "------------------------------\n",
      "Finite-difference test\n",
      "-----------------------------\n",
      "  p | error \n",
      "----|------------------------\n",
      "  2 | 1.0063240e-03 \n",
      "  3 | 1.0064698e-04 \n",
      "  4 | 1.0064709e-05 \n",
      "  5 | 1.0063949e-06 \n",
      "  6 | 9.9476247e-08 \n",
      "  7 | 2.2204517e-08 \n",
      "  8 | 2.6645355e-07 \n",
      "  9 | 1.7763569e-06 \n",
      " 10 | 1.3322676e-05 \n",
      " 11 | 3.1086245e-04 \n",
      " 12 | 2.2204460e-03 \n",
      "-----------------------------\n"
     ]
    }
   ],
   "source": [
    "# TEST NRL-TB site energy for Aluminum FCC\n",
    "# WITH periodic BOUNDARY CONDITION ON THIRD DIMENSION\n",
    "\n",
    "using AtomsInterface\n",
    "reload(\"SparseTools\")\n",
    "reload(\"Potentials\")\n",
    "reload(\"TightBinding\")\n",
    "reload(\"NRLTB\")  \n",
    "\n",
    "set_pbc!(at, [false, true, true])\n",
    "tbm = NRLTB.NRLTBModel(elem = NRLTB.Al_spd)\n",
    "tbm.nkpoints = (0,0,0)\n",
    "\n",
    "X = positions(at)\n",
    "\n",
    "Es_all = TightBinding.site_energy([1:length(at);], at, tbm)\n",
    "Etot = TightBinding.potential_energy(at, tbm)\n",
    "println(\"E - ∑ E_i = \", Etot - r_sum(Es_all))\n",
    "println(\"------------------------------\")\n",
    "\n",
    "println(\"Finite-difference test\")\n",
    "Es = TightBinding.site_energy(1, at, tbm)\n",
    "Fs = TightBinding.site_forces(1, at, tbm)[:]\n",
    "\n",
    "println(\"-----------------------------\")\n",
    "println(\"  p | error \")\n",
    "println(\"----|------------------------\")\n",
    "for p = 2:12\n",
    "    h = 0.1^p \n",
    "    dEsh = zeros(length(Fs))\n",
    "    for n = 1:length(Fs)\n",
    "        X[n] += h\n",
    "        set_positions!(at, X)\n",
    "        dEsh[n] = (TightBinding.site_energy(1, at, tbm) - Es) / h\n",
    "        X[n] -= h\n",
    "    end\n",
    "    @printf(\" %2d | %1.7e \\n\", p, norm(dEsh + Fs, Inf))\n",
    "end\n",
    "println(\"-----------------------------\")"
   ]
  },
  {
   "cell_type": "markdown",
   "metadata": {},
   "source": []
  },
  {
   "cell_type": "markdown",
   "metadata": {
    "collapsed": true
   },
   "source": [
    "### Test ForwardDiff for dH, d2H, and d3H"
   ]
  },
  {
   "cell_type": "code",
   "execution_count": 3,
   "metadata": {
    "collapsed": false
   },
   "outputs": [
    {
     "data": {
      "text/plain": [
       "3-element Array{Float64,1}:\n",
       " 1.27341\n",
       " 1.769  \n",
       " 0.33543"
      ]
     },
     "execution_count": 3,
     "metadata": {},
     "output_type": "execute_result"
    }
   ],
   "source": [
    "a = rand(3)*2"
   ]
  },
  {
   "cell_type": "code",
   "execution_count": 41,
   "metadata": {
    "collapsed": false
   },
   "outputs": [
    {
     "name": "stderr",
     "output_type": "stream",
     "text": [
      "WARNING: replacing module NRLTB\n"
     ]
    },
    {
     "name": "stdout",
     "output_type": "stream",
     "text": [
      "-----------------------------\n",
      "  p | error \n",
      "----|------------------------\n",
      "  2 | 1.8473380e-03 \n",
      "  3 | 1.8703860e-04 \n",
      "  4 | 1.8727011e-05 \n",
      "  5 | 1.8729496e-06 \n",
      "  6 | 1.8729522e-07 \n",
      "  7 | 1.9679301e-08 \n",
      "  8 | 2.3439385e-08 \n",
      "  9 | 2.8418994e-07 \n",
      " 10 | 9.7608153e-07 \n",
      " 11 | 1.8793833e-05 \n",
      " 12 | 2.1548997e-04 \n",
      "-----------------------------\n"
     ]
    }
   ],
   "source": [
    "# TEST the ForwardDiff for NRL-TB hamiltonian derivatives\n",
    "# C\n",
    "\n",
    "import NRLTB\n",
    "reload(\"NRLTB\")\n",
    "BOHR = 0.52917721092 \n",
    "\n",
    "h = zeros(4,4)\n",
    "f = zeros(4,4)\n",
    "dh = zeros(3,4,4)\n",
    "# f = NRLTB.mat_local_h!(norm(a)/BOHR, a/BOHR, NRLTB.C_sp, h, zeros(4))\n",
    "NRLTB.mat_local_h!(norm(a)/BOHR, a/BOHR, NRLTB.C_sp, h, zeros(4))\n",
    "f[:] = h[:]\n",
    "df = NRLTB.hop_local_fd!(a/BOHR, NRLTB.C_sp, dh) / BOHR\n",
    "\n",
    "println(\"-----------------------------\")\n",
    "println(\"  p | error \")\n",
    "println(\"----|------------------------\")\n",
    "for p = 2:12\n",
    "    δ = 0.1^p\n",
    "    dfh = zeros(size(df))\n",
    "    for n = 1:3\n",
    "        a[n] += δ\n",
    "        fh = NRLTB.mat_local_h!(norm(a)/BOHR, a/BOHR, NRLTB.C_sp, h, zeros(4))\n",
    "        # print(fh-f) println(\"\\n\")\n",
    "        dfh[n,:] = ( (fh - f) / δ ) \n",
    "        a[n] -= δ\n",
    "    end\n",
    "    err = reshape( dfh - df, 3*4*4)\n",
    "    @printf(\" %2d | %1.7e \\n\", p, norm(err, Inf))\n",
    "end\n",
    "println(\"-----------------------------\")"
   ]
  },
  {
   "cell_type": "code",
   "execution_count": 45,
   "metadata": {
    "collapsed": false
   },
   "outputs": [
    {
     "name": "stdout",
     "output_type": "stream",
     "text": [
      "  0.000011 seconds (28 allocations: 1.656 KB)\n",
      "  0.000614 seconds (3.25 k allocations: 147.781 KB)\n",
      "  0.000007 seconds (28 allocations: 1.656 KB)\n",
      "  0.000547 seconds (3.25 k allocations: 147.781 KB)\n",
      "  0.000005 seconds (28 allocations: 1.656 KB)\n",
      "  0.000561 seconds (3.25 k allocations: 147.781 KB)\n"
     ]
    }
   ],
   "source": [
    "@time NRLTB.d_mat_local(norm(a)/BOHR, a/BOHR, NRLTB.C_sp, :dH);\n",
    "@time NRLTB.hop_local_fd!(a/BOHR, NRLTB.C_sp, dh);\n",
    "@time NRLTB.d_mat_local(norm(a)/BOHR, a/BOHR, NRLTB.C_sp, :dH);\n",
    "@time NRLTB.hop_local_fd!(a/BOHR, NRLTB.C_sp, dh);\n",
    "@time NRLTB.d_mat_local(norm(a)/BOHR, a/BOHR, NRLTB.C_sp, :dH);\n",
    "@time NRLTB.hop_local_fd!(a/BOHR, NRLTB.C_sp, dh);"
   ]
  },
  {
   "cell_type": "code",
   "execution_count": 4,
   "metadata": {
    "collapsed": false
   },
   "outputs": [
    {
     "name": "stderr",
     "output_type": "stream",
     "text": [
      "WARNING: replacing module NRLTB\n"
     ]
    },
    {
     "name": "stdout",
     "output_type": "stream",
     "text": [
      "-----------------------------\n",
      "  p | error \n",
      "----|------------------------\n",
      "  2 | 4.9542611e-02 \n",
      "  3 | 5.0066614e-03 \n",
      "  4 | 5.0119324e-04 \n",
      "  5 | 5.0124593e-05 \n",
      "  6 | 5.0125230e-06 \n",
      "  7 | 4.9885576e-07 \n",
      "  8 | 1.7522575e-07 \n",
      "  9 | 1.9910464e-06 \n",
      " 10 | 1.1976896e-05 \n",
      " 11 | 8.6725733e-05 \n",
      " 12 | 1.0261656e-03 \n",
      "-----------------------------\n"
     ]
    }
   ],
   "source": [
    "# TEST the ForwardDiff for NRL-TB hamiltonian derivatives\n",
    "# Al\n",
    "\n",
    "import NRLTB\n",
    "reload(\"NRLTB\")\n",
    "BOHR = 0.52917721092 \n",
    "\n",
    "h = zeros(9,9)\n",
    "f = zeros(9,9)\n",
    "dh = zeros(3,9,9)\n",
    "# f = NRLTB.mat_local_h!(norm(a)/BOHR, a/BOHR, NRLTB.C_sp, h, zeros(10))\n",
    "NRLTB.mat_local_h!(norm(a)/BOHR, a/BOHR, NRLTB.Al_spd, h, zeros(10))\n",
    "f[:] = h[:]\n",
    "df = NRLTB.hop_local_fd!(a/BOHR, NRLTB.Al_spd, dh)\n",
    "df[:] = dh[:]/BOHR\n",
    "\n",
    "println(\"-----------------------------\")\n",
    "println(\"  p | error \")\n",
    "println(\"----|------------------------\")\n",
    "for p = 2:12\n",
    "    δ = 0.1^p\n",
    "    dfh = zeros(size(df))\n",
    "    for n = 1:3\n",
    "        a[n] += δ\n",
    "        fh = NRLTB.mat_local_h!(norm(a)/BOHR, a/BOHR, NRLTB.Al_spd, h, zeros(10))\n",
    "        # print(fh-f) println(\"\\n\")\n",
    "        dfh[n,:] = ( (fh - f) / δ )\n",
    "        a[n] -= δ\n",
    "    end\n",
    "    err = reshape( dfh - df, 3*9*9)\n",
    "    @printf(\" %2d | %1.7e \\n\", p, norm(err, Inf))\n",
    "end\n",
    "println(\"-----------------------------\")"
   ]
  },
  {
   "cell_type": "code",
   "execution_count": 8,
   "metadata": {
    "collapsed": false
   },
   "outputs": [
    {
     "name": "stderr",
     "output_type": "stream",
     "text": [
      "WARNING: replacing module NRLTB\n"
     ]
    },
    {
     "name": "stdout",
     "output_type": "stream",
     "text": [
      "-----------------------------\n",
      "  p | error \n",
      "----|------------------------\n",
      "  2 | 1.7442464e-01 \n",
      "  3 | 1.7567390e-02 \n",
      "  4 | 1.7579878e-03 \n",
      "  5 | 1.7581102e-04 \n",
      "  6 | 1.7585501e-05 \n",
      "  7 | 1.7976852e-06 \n",
      "  8 | 7.1410753e-07 \n",
      "  9 | 2.3495870e-06 \n",
      " 10 | 3.8106419e-05 \n",
      " 11 | 3.0351238e-04 \n",
      " 12 | 5.6508570e-03 \n",
      "-----------------------------\n"
     ]
    }
   ],
   "source": [
    "# test ForwardDiff for hessian\n",
    "import NRLTB\n",
    "reload(\"NRLTB\")\n",
    "BOHR = 0.52917721092 \n",
    "\n",
    "norb = 9\n",
    "# b = a/BOHR\n",
    "dh = zeros(3,3,norb,norb)\n",
    "\n",
    "h = zeros(3,norb,norb)\n",
    "f = zeros(3,norb,norb)\n",
    "fh = zeros(3,norb,norb)\n",
    "df = zeros(3,3,norb,norb)\n",
    "\n",
    "#h = NRLTB.hop_local_fd!(a/BOHR, NRLTB.Al_spd, h)\n",
    "#f[:] = h[:]/BOHR\n",
    "NRLTB.d_mat_local!(norm(a)/BOHR, a/BOHR, NRLTB.Al_spd, :dH, h)\n",
    "f[:] = h[:]/BOHR\n",
    "#NRLTB.evaluate_fd!(tbm.hop, a, f)\n",
    "# NRLTB.hop_local_fd2!(a/BOHR, NRLTB.Al_spd, df)\n",
    "# df[:] /= BOHR^2\n",
    "NRLTB.evaluate_fd2!(tbm.hop, a, df)\n",
    "\n",
    "println(\"-----------------------------\")\n",
    "println(\"  p | error \")\n",
    "println(\"----|------------------------\")\n",
    "for p = 2:12\n",
    "    δ = 0.1^p\n",
    "    dfh = zeros(size(df))\n",
    "    for n = 1:3\n",
    "        a[n] += δ\n",
    "        # fh = NRLTB.hop_local_fd!(a/BOHR, NRLTB.Al_spd, h)\n",
    "        # fh[:] = h[:]/BOHR\n",
    "        NRLTB.evaluate_fd!(tbm.hop, a, fh)\n",
    "        dfh[n,:] = ( (fh - f) / δ ) \n",
    "        a[n] -= δ\n",
    "    end\n",
    "    err = reshape( dfh - df, 3*3*norb*norb)\n",
    "    @printf(\" %2d | %1.7e \\n\", p, norm(err, Inf))\n",
    "end\n",
    "println(\"-----------------------------\")"
   ]
  },
  {
   "cell_type": "code",
   "execution_count": 12,
   "metadata": {
    "collapsed": false
   },
   "outputs": [
    {
     "data": {
      "text/plain": [
       "3-element Array{Float64,1}:\n",
       " 3.8267 \n",
       " 1.0e-15\n",
       " 3.8267 "
      ]
     },
     "execution_count": 12,
     "metadata": {},
     "output_type": "execute_result"
    }
   ],
   "source": [
    "# a = [ -2.025, -2.0250000000170014, 0.0 ] \n",
    "\n",
    "# note that when x==y or z==0,\n",
    "# Forwardiff gives the wrong results for 3rd order derivatives for Aluminimu (norb=9)\n",
    "a = [ -2.025, -2.025+1.0e-10, 1.0e-10 ] \n",
    "# a = [ -2.025, -2.025, 0.0 ] \n",
    "a = [3.8266954022442503,1.0e-15,3.82669540224614]"
   ]
  },
  {
   "cell_type": "code",
   "execution_count": 15,
   "metadata": {
    "collapsed": false
   },
   "outputs": [
    {
     "name": "stderr",
     "output_type": "stream",
     "text": [
      "WARNING: replacing module NRLTB\n"
     ]
    },
    {
     "name": "stdout",
     "output_type": "stream",
     "text": [
      "-----------------------------\n",
      "  p | error \n",
      "----|------------------------\n",
      "  2 | 5.8843486e-05 \n",
      "  3 | 5.8654554e-06 \n",
      "  4 | 5.8635744e-07 \n",
      "  5 | 5.8633407e-08 \n",
      "  6 | 5.8702741e-09 \n",
      "  7 | 6.0625572e-10 \n",
      "  8 | 1.2524250e-09 \n",
      "  9 | 1.3752918e-08 \n",
      " 10 | 1.6901067e-07 \n",
      " 11 | 1.2771942e-06 \n",
      " 12 | 1.5078959e-05 \n",
      "-----------------------------\n"
     ]
    }
   ],
   "source": [
    "# test 3rd order derivatives\n",
    "import NRLTB\n",
    "reload(\"NRLTB\")\n",
    "BOHR = 0.52917721092 \n",
    "\n",
    "norb = 9\n",
    "b = a/BOHR\n",
    "\n",
    "h = zeros(3,3,norb,norb)\n",
    "f = zeros(3,3,norb,norb)\n",
    "dh = zeros(3,3,3,norb,norb)\n",
    "\n",
    "df = NRLTB.hop_local_fd3!(a/BOHR, NRLTB.Al_spd, dh)\n",
    "df[:] = df[:]/BOHR^3\n",
    "\n",
    "NRLTB.hop_local_fd2!(a/BOHR, NRLTB.Al_spd, h)\n",
    "f[:] = h[:]/BOHR^2\n",
    "\n",
    "println(\"-----------------------------\")\n",
    "println(\"  p | error \")\n",
    "println(\"----|------------------------\")\n",
    "for p = 2:12\n",
    "    δ = 0.1^p\n",
    "    dfh = zeros(size(df))\n",
    "    for n = 1:3\n",
    "        a[n] += δ\n",
    "        fh = NRLTB.hop_local_fd2!(a/BOHR, NRLTB.Al_spd, h)\n",
    "        fh[:] = fh[:]/BOHR^2\n",
    "        dfh[n,:] = ( (fh - f) / δ )\n",
    "        a[n] -= δ\n",
    "    end\n",
    "    err = reshape( dfh - df, 3*3*3*norb*norb)\n",
    "    @printf(\" %2d | %1.7e \\n\", p, norm(err, Inf))\n",
    "end\n",
    "println(\"-----------------------------\")"
   ]
  },
  {
   "cell_type": "code",
   "execution_count": 75,
   "metadata": {
    "collapsed": false
   },
   "outputs": [
    {
     "name": "stdout",
     "output_type": "stream",
     "text": [
      "  0.017657 seconds (58.87 k allocations: 3.568 MB)\n",
      "  0.013645 seconds (58.87 k allocations: 3.568 MB)\n"
     ]
    }
   ],
   "source": [
    "@time  NRLTB.hop_local_fd3!(a/BOHR, NRLTB.Al_spd, dh);\n",
    "@time  NRLTB.hop_local_fd3!(a/BOHR, NRLTB.Al_spd, dh);"
   ]
  },
  {
   "cell_type": "markdown",
   "metadata": {
    "collapsed": false
   },
   "source": [
    "### ForwardDiff  for onsite  terms"
   ]
  },
  {
   "cell_type": "code",
   "execution_count": 44,
   "metadata": {
    "collapsed": false
   },
   "outputs": [
    {
     "data": {
      "text/plain": [
       "3x5 Array{Float64,2}:\n",
       " 1.69863   3.57175   3.99857    1.30786   3.7234 \n",
       " 3.7917    0.972753  0.0575383  3.80522   3.7646 \n",
       " 0.372574  1.86909   0.667562   0.810392  2.52693"
      ]
     },
     "execution_count": 44,
     "metadata": {},
     "output_type": "execute_result"
    }
   ],
   "source": [
    "r = rand(3,5)*4"
   ]
  },
  {
   "cell_type": "code",
   "execution_count": 16,
   "metadata": {
    "collapsed": false
   },
   "outputs": [
    {
     "data": {
      "text/plain": [
       "5-element Array{Float64,1}:\n",
       " 4.18777\n",
       " 5.05741\n",
       " 3.76347\n",
       " 4.37487\n",
       " 3.65041"
      ]
     },
     "execution_count": 16,
     "metadata": {},
     "output_type": "execute_result"
    }
   ],
   "source": [
    "R = Float64[ norm(r[:,k]) for k = 1:size(r)[2]]"
   ]
  },
  {
   "cell_type": "code",
   "execution_count": 17,
   "metadata": {
    "collapsed": false
   },
   "outputs": [
    {
     "name": "stderr",
     "output_type": "stream",
     "text": [
      "WARNING: replacing module NRLTB\n"
     ]
    },
    {
     "data": {
      "text/plain": [
       "(15,15,15,4)"
      ]
     },
     "execution_count": 17,
     "metadata": {},
     "output_type": "execute_result"
    }
   ],
   "source": [
    "import NRLTB\n",
    "reload(\"NRLTB\")\n",
    "\n",
    "h = NRLTB.get_os(R, NRLTB.C_sp)\n",
    "d3h = zeros(15, 15, 15, 4)\n",
    "df = NRLTB.get_d3os_fd!(r, NRLTB.C_sp, d3h)\n",
    "size(df)"
   ]
  },
  {
   "cell_type": "code",
   "execution_count": 18,
   "metadata": {
    "collapsed": false
   },
   "outputs": [
    {
     "name": "stderr",
     "output_type": "stream",
     "text": [
      "WARNING: replacing module NRLTB\n"
     ]
    },
    {
     "name": "stdout",
     "output_type": "stream",
     "text": [
      "-----------------------------\n",
      "  p | error \n",
      "----|------------------------\n",
      "  2 | 4.0105227e-07 \n",
      "  3 | 4.0680395e-08 \n",
      "  4 | 4.0729005e-09 \n",
      "  5 | 4.0472362e-10 \n",
      "  6 | 1.0239804e-10 \n",
      "  7 | 1.3664400e-09 \n",
      "  8 | 9.1380011e-09 \n",
      "  9 | 1.0525874e-07 \n",
      " 10 | 1.0801410e-06 \n",
      " 11 | 9.2483208e-06 \n",
      " 12 | 1.0814030e-04 \n",
      "-----------------------------\n"
     ]
    }
   ],
   "source": [
    "# TEST the ForwardDiff for NRL-TB hamiltonian derivatives\n",
    "# have not  take BOHR into consideration!!\n",
    "\n",
    "import NRLTB\n",
    "reload(\"NRLTB\")\n",
    "BOHR = 0.52917721092 \n",
    "\n",
    "f = zeros(4)\n",
    "dh = zeros(15,4)\n",
    "f = diag( NRLTB.get_os(Float64[ norm(r[:,k]/BOHR) for k = 1:size(r)[2]], NRLTB.C_sp) )\n",
    "df = NRLTB.get_dos_fd!(r/BOHR, NRLTB.C_sp, dh)/BOHR\n",
    "\n",
    "println(\"-----------------------------\")\n",
    "println(\"  p | error \")\n",
    "println(\"----|------------------------\")\n",
    "for p = 2:12\n",
    "    δ = 0.1^p\n",
    "    dfh = zeros(size(df))\n",
    "    for n = 1:15\n",
    "        r[n] += δ\n",
    "        fh = diag( NRLTB.get_os(Float64[ norm(r[:,k]/BOHR) for k = 1:size(r)[2]], NRLTB.C_sp) )\n",
    "        dfh[n,:] = ( (fh - f) / δ ) \n",
    "        r[n] -= δ\n",
    "    end\n",
    "    err = reshape( dfh - df , 15*4)\n",
    "    @printf(\" %2d | %1.7e \\n\", p, norm(err, Inf))\n",
    "end\n",
    "println(\"-----------------------------\")"
   ]
  },
  {
   "cell_type": "code",
   "execution_count": 32,
   "metadata": {
    "collapsed": false
   },
   "outputs": [
    {
     "name": "stderr",
     "output_type": "stream",
     "text": [
      "WARNING: replacing module NRLTB\n"
     ]
    },
    {
     "name": "stdout",
     "output_type": "stream",
     "text": [
      "-----------------------------\n",
      "  p | error \n",
      "----|------------------------\n",
      "  2 | 1.9129319e-06 \n",
      "  3 | 1.9358648e-07 \n",
      "  4 | 1.9381816e-08 \n",
      "  5 | 1.9384104e-09 \n",
      "  6 | 1.9381540e-10 \n",
      "  7 | 1.9296119e-11 \n",
      "  8 | 5.5911262e-12 \n",
      "  9 | 3.5547672e-11 \n",
      " 10 | 5.2343865e-10 \n",
      " 11 | 4.4868694e-09 \n",
      " 12 | 3.8876407e-08 \n",
      "-----------------------------\n"
     ]
    }
   ],
   "source": [
    "# test hessian\n",
    "import NRLTB\n",
    "reload(\"NRLTB\")\n",
    "\n",
    "dh = zeros(15,4)\n",
    "fh = zeros(15,4)\n",
    "d2h = zeros(15,15,4)\n",
    "f = NRLTB.get_dos_fd!(r/BOHR, NRLTB.C_sp, dh)\n",
    "f[:]/=BOHR\n",
    "df = NRLTB.get_d2os_fd!(r/BOHR, NRLTB.C_sp, d2h)/ (BOHR^2)\n",
    "\n",
    "println(\"-----------------------------\")\n",
    "println(\"  p | error \")\n",
    "println(\"----|------------------------\")\n",
    "for p = 2:12\n",
    "    δ = 0.1^p\n",
    "    dfh = zeros(size(df))\n",
    "    for n = 1:15\n",
    "        r[n] += δ\n",
    "        NRLTB.get_dos_fd!(r/BOHR, NRLTB.C_sp, fh)\n",
    "        fh[:]/=BOHR\n",
    "        # NOTE:\n",
    "        # fh = NRLTB.get_dos_fd(r, NRLTB.C_sp, dh) does not change the value of fh!!\n",
    "        # print(norm((f-fh)[:],Inf))\n",
    "        dfh[n,:] = ( ( fh - f) / δ ) \n",
    "        r[n] -= δ\n",
    "    end\n",
    "    err = reshape( dfh - df , 15*15*4)\n",
    "    @printf(\" %2d | %1.7e \\n\", p, norm(err, Inf))\n",
    "end\n",
    "println(\"-----------------------------\")\n"
   ]
  },
  {
   "cell_type": "code",
   "execution_count": 38,
   "metadata": {
    "collapsed": false
   },
   "outputs": [
    {
     "name": "stderr",
     "output_type": "stream",
     "text": [
      "WARNING: replacing module NRLTB\n"
     ]
    },
    {
     "name": "stdout",
     "output_type": "stream",
     "text": [
      "-----------------------------\n",
      "  p | error \n",
      "----|------------------------\n",
      "  2 | 7.6259991e-06 \n",
      "  3 | 7.7210531e-07 \n",
      "  4 | 7.7306675e-08 \n",
      "  5 | 7.7316136e-09 \n",
      "  6 | 7.7303328e-10 \n",
      "  7 | 7.6623115e-11 \n",
      "  8 | 2.4445886e-11 \n",
      "  9 | 1.6705359e-10 \n",
      " 10 | 2.8504540e-09 \n",
      " 11 | 2.0812584e-08 \n",
      " 12 | 2.2410049e-07 \n",
      "-----------------------------\n"
     ]
    }
   ],
   "source": [
    "# test 3rd-order derivative\n",
    "import NRLTB\n",
    "reload(\"NRLTB\")\n",
    "\n",
    "d2h = zeros(15,15,4)\n",
    "fh = zeros(15,15,4)\n",
    "d3h = zeros(15,15,15,4)\n",
    "f = NRLTB.get_d2os_fd!(r/BOHR, NRLTB.C_sp, d2h)\n",
    "f[:]/=BOHR^2\n",
    "df = NRLTB.get_d3os_fd!(r/BOHR, NRLTB.C_sp, d3h)/BOHR^3\n",
    "\n",
    "println(\"-----------------------------\")\n",
    "println(\"  p | error \")\n",
    "println(\"----|------------------------\")\n",
    "for p = 2:12\n",
    "    δ = 0.1^p\n",
    "    dfh = zeros(size(df))\n",
    "    for n = 1:15\n",
    "        r[n] += δ\n",
    "        NRLTB.get_d2os_fd!(r/BOHR, NRLTB.C_sp, fh)\n",
    "        fh[:]/=BOHR^2\n",
    "        # NOTE:\n",
    "        # fh = NRLTB.get_dos_fd(r, NRLTB.C_sp, dh) does not change the value of fh!!\n",
    "        # print(norm((f-fh)[:],Inf))\n",
    "        #\n",
    "        dfh[n,:] = ( ( fh - f) / δ ) \n",
    "        r[n] -= δ\n",
    "    end\n",
    "    err = reshape( dfh - df , 15*15*15*4)\n",
    "    @printf(\" %2d | %1.7e \\n\", p, norm(err, Inf))\n",
    "end\n",
    "println(\"-----------------------------\")"
   ]
  }
 ],
 "metadata": {
  "kernelspec": {
   "display_name": "Julia 0.4.0-rc4",
   "language": "julia",
   "name": "julia-0.4"
  },
  "language_info": {
   "file_extension": ".jl",
   "mimetype": "application/julia",
   "name": "julia",
   "version": "0.4.1"
  }
 },
 "nbformat": 4,
 "nbformat_minor": 0
}
