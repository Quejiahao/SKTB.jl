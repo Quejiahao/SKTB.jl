{
 "cells": [
  {
   "cell_type": "code",
   "execution_count": 9,
   "metadata": {
    "collapsed": false
   },
   "outputs": [],
   "source": [
    "push!(LOAD_PATH, \"..\")\n",
    "using ASE\n",
    "using MatSciPy\n",
    "using PyPlot\n",
    "using PyCall\n",
    "using TightBinding"
   ]
  },
  {
   "cell_type": "code",
   "execution_count": 10,
   "metadata": {
    "collapsed": false
   },
   "outputs": [
    {
     "name": "stdout",
     "output_type": "stream",
     "text": [
      "4"
     ]
    }
   ],
   "source": [
    "at = bulk(\"Al\")#; cubic=true)\n",
    "at = repeat(at, (2, 2, 1))\n",
    "X = positions(at)\n",
    "# set_pbc!(at, [false, false, false])\n",
    "# plot3D(X[1,:][:], X[2,:][:], X[3,:][:], \"b.\")\n",
    "print(length(at))"
   ]
  },
  {
   "cell_type": "code",
   "execution_count": 3,
   "metadata": {
    "collapsed": false
   },
   "outputs": [
    {
     "name": "stdout",
     "output_type": "stream",
     "text": [
      "E = -15.758671486710963\n",
      "|f|∞ = 4.40619762898109e-16\n"
     ]
    }
   ],
   "source": [
    "# reload(\"Potentials\")\n",
    "# reload(\"tbtoymodel\")\n",
    "# reload(\"TightBinding\")\n",
    "# reload(\"MatSciPy\")\n",
    "tbm = TightBinding.ToyTB.ToyTBModel(r0=2.5, rcut=6.0)\n",
    "E = TightBinding.potential_energy(at, tbm)\n",
    "println(\"E = \", E)\n",
    "frc = TightBinding.forces(at, tbm)\n",
    "println(\"|f|∞ = \", norm(frc[:], Inf))"
   ]
  },
  {
   "cell_type": "code",
   "execution_count": 7,
   "metadata": {
    "collapsed": false
   },
   "outputs": [
    {
     "name": "stderr",
     "output_type": "stream",
     "text": [
      "WARNING: replacing module TightBinding\n",
      "WARNING: imported binding for NRLTB overwritten in module TightBinding\n"
     ]
    },
    {
     "name": "stdout",
     "output_type": "stream",
     "text": [
      "E = -"
     ]
    },
    {
     "name": "stderr",
     "output_type": "stream",
     "text": [
      "WARNING: could not attach metadata for @simd loop.\n"
     ]
    },
    {
     "name": "stdout",
     "output_type": "stream",
     "text": [
      "2.2402263145143673\n",
      "|f|∞ = 0.14601367064044007\n"
     ]
    }
   ],
   "source": [
    "set_pbc!(at, [false, false, false])\n",
    "\n",
    "reload(\"TightBinding\")\n",
    "tbm = TightBinding.ToyTB.ToyTBModel(r0=2.5, rcut=6.0)\n",
    "E = TightBinding.potential_energy(at, tbm)\n",
    "println(\"E = \", E)\n",
    "frc = TightBinding.forces(at, tbm)\n",
    "println(\"|f|∞ = \", norm(frc[:], Inf))"
   ]
  },
  {
   "cell_type": "code",
   "execution_count": 5,
   "metadata": {
    "collapsed": false
   },
   "outputs": [
    {
     "name": "stderr",
     "output_type": "stream",
     "text": [
      "WARNING: replacing module Potentials\n",
      "WARNING: replacing module TightBinding\n",
      "WARNING: replacing module ToyTB\n",
      "WARNING: could not attach metadata for @simd loop.\n"
     ]
    },
    {
     "name": "stdout",
     "output_type": "stream",
     "text": [
      "-----------------------------\n",
      "  p | error \n",
      "----|------------------------\n",
      "  2 | 1.4867346e-03 \n",
      "  3 | 1.4867270e-04 \n",
      "  4 | 1.4867263e-05 \n",
      "  5 | 1.4865886e-06 \n",
      "  6 | 1.5010215e-07 \n",
      "  7 | 2.4461734e-08 \n",
      "  8 | 3.1718760e-07 \n",
      "  9 | 3.1797765e-06 \n",
      " 10 | 3.8596093e-05 \n",
      " 11 | 3.8683979e-04 \n",
      " 12 | 3.9968029e-03 \n",
      "-----------------------------\n"
     ]
    }
   ],
   "source": [
    "reload(\"Potentials\")\n",
    "reload(\"TightBinding\")\n",
    "reload(\"tbtoymodel\")\n",
    "\n",
    "set_pbc!(at, [false, false, false])\n",
    "#set_pbc!(at, [true, true, true])\n",
    "\n",
    "tbm = TightBinding.ToyTB.ToyTBModel(r0=2.5, rcut=8.0)\n",
    "X = positions(at)\n",
    "f = TightBinding.potential_energy(at, tbm)\n",
    "df = TightBinding.forces(at, tbm)[:]\n",
    "    println(\"-----------------------------\")\n",
    "    println(\"  p | error \")\n",
    "    println(\"----|------------------------\")\n",
    "    for p = 2:12\n",
    "        h = 0.1^p\n",
    "        dfh = zeros(length(df))\n",
    "        for n = 1:length(df)\n",
    "            X[n] += h\n",
    "            set_positions!(at, X)\n",
    "            dfh[n] = (TightBinding.potential_energy(at, tbm) - f) / h\n",
    "            X[n] -= h\n",
    "        end\n",
    "    #@printf(\" %2d | %1.7e \\n\", p, norm(df - dfh, Inf))\n",
    "    @printf(\" %2d | %1.7e \\n\", p, norm(dfh + df, Inf))\n",
    "    end\n",
    "println(\"-----------------------------\")\n"
   ]
  },
  {
   "cell_type": "code",
   "execution_count": 7,
   "metadata": {
    "collapsed": false
   },
   "outputs": [
    {
     "name": "stderr",
     "output_type": "stream",
     "text": [
      "WARNING: replacing module NRLTB\n"
     ]
    },
    {
     "name": "stdout",
     "output_type": "stream",
     "text": [
      "-----------------------------\n",
      "  p | error \n",
      "----|------------------------\n",
      "  2 | 4.7936432e-04 \n",
      "  3 | 4.8252387e-05 \n",
      "  4 | 4.8284068e-06 \n",
      "  5 | 4.8288380e-07 \n",
      "  6 | 4.8356390e-08 \n",
      "  7 | 4.7385025e-09 \n",
      "  8 | 1.5400929e-08 \n",
      "  9 | 1.1461380e-07 \n",
      " 10 | 1.1590824e-06 \n",
      " 11 | 9.4107278e-06 \n",
      " 12 | 1.6019853e-04 \n",
      "-----------------------------\n"
     ]
    }
   ],
   "source": [
    "# TEST the NRL-TB hamiltonian constructor\n",
    "import NRLTB\n",
    "reload(\"NRLTB\")\n",
    "a = rand(3)*6\n",
    "\n",
    "f = NRLTB.mat_local(norm(a), a, NRLTB.Al_spd, \"H\")\n",
    "df = NRLTB.d_mat_local(norm(a), a, NRLTB.Al_spd, \"dH\")\n",
    "println(\"-----------------------------\")\n",
    "println(\"  p | error \")\n",
    "println(\"----|------------------------\")\n",
    "for p = 2:12\n",
    "    h = 0.1^p\n",
    "    dfh = zeros(size(df))\n",
    "    for n = 1:3\n",
    "        a[n] += h\n",
    "        fh = NRLTB.mat_local(norm(a), a, NRLTB.Al_spd, \"H\")\n",
    "        dfh[n,:] = (fh - f) / h\n",
    "        a[n] -= h\n",
    "    end\n",
    "    err = reshape(dfh - df, 3*81)\n",
    "    @printf(\" %2d | %1.7e \\n\", p, norm(err,Inf))\n",
    "end\n",
    "println(\"-----------------------------\")"
   ]
  },
  {
   "cell_type": "code",
   "execution_count": 21,
   "metadata": {
    "collapsed": false,
    "scrolled": true
   },
   "outputs": [
    {
     "name": "stderr",
     "output_type": "stream",
     "text": [
      "WARNING: replacing module SparseTools\n",
      "WARNING: replacing module Potentials\n",
      "WARNING: replacing module TightBinding\n",
      "WARNING: replacing module NRLTB\n"
     ]
    },
    {
     "name": "stdout",
     "output_type": "stream",
     "text": [
      "-----------------------------\n",
      "  p | error \n",
      "----|------------------------\n",
      "  2 | 5.0889126e-03 \n",
      "  3 | 5.0887465e-04 \n",
      "  4 | 5.0887431e-05 \n",
      "  5 | 5.0888439e-06 \n",
      "  6 | 5.0871044e-07 \n",
      "  7 | 3.8906909e-08 \n",
      "  8 | 1.4159240e-07 \n",
      "  9 | 1.6771453e-06 \n",
      " 10 | 1.8326597e-05 \n",
      " 11 | 1.3877791e-04 \n",
      " 12 | 2.2139949e-03 \n",
      "-----------------------------\n"
     ]
    }
   ],
   "source": [
    "# TEST NRL-TB for Aluminum FCC\n",
    "\n",
    "reload(\"SparseTools\")\n",
    "reload(\"Potentials\")\n",
    "reload(\"TightBinding\")\n",
    "reload(\"NRLTB\")    \n",
    "BOHR = 0.52917721092 \n",
    "\n",
    "set_pbc!(at, [false, false, false])\n",
    "tbm = NRLTB.NRLTBModel(elem = NRLTB.Al_spd)\n",
    "\n",
    "X = positions(at)\n",
    "f = TightBinding.potential_energy(at, tbm)\n",
    "df = TightBinding.forces(at, tbm)[:] # / BOHR\n",
    "    println(\"-----------------------------\")\n",
    "    println(\"  p | error \")\n",
    "    println(\"----|------------------------\")\n",
    "for p = 2:12\n",
    "    h = 0.1^p \n",
    "    dfh = zeros(length(df))\n",
    "    for n = 1:length(df)\n",
    "        X[n] += h\n",
    "        set_positions!(at, X)\n",
    "        dfh[n] = (TightBinding.potential_energy(at, tbm) - f) / h\n",
    "        X[n] -= h\n",
    "    end\n",
    "    @printf(\" %2d | %1.7e \\n\", p, norm(dfh + df, Inf))\n",
    "end\n",
    "println(\"-----------------------------\")"
   ]
  },
  {
   "cell_type": "code",
   "execution_count": 73,
   "metadata": {
    "collapsed": false
   },
   "outputs": [
    {
     "name": "stderr",
     "output_type": "stream",
     "text": [
      "WARNING: replacing module SparseTools\n",
      "WARNING: replacing module Potentials\n",
      "WARNING: replacing module TightBinding\n",
      "WARNING: replacing module NRLTB\n"
     ]
    },
    {
     "name": "stdout",
     "output_type": "stream",
     "text": [
      "-----------------------------\n",
      "  p | error \n",
      "----|------------------------\n",
      "  2 | 1.6308510e-03 \n",
      "  3 | 1.6310346e-04 \n",
      "  4 | 1.6310438e-05 \n",
      "  5 | 1.6310517e-06 \n",
      "  6 | 1.6804419e-07 \n",
      "  7 | 1.1760060e-07 \n",
      "  8 | 1.1113269e-06 \n",
      "  9 | 1.0949365e-05 \n",
      " 10 | 9.3632306e-05 \n",
      "-----------------------------\n"
     ]
    }
   ],
   "source": [
    "# TEST NRL-TB for Aluminum FCC\n",
    "# WITH PERIODIC BOUNDARY CONDITION ON THIRD DIMENSION\n",
    "# TAKE nkpoints = (0,0,4)\n",
    "\n",
    "reload(\"SparseTools\")\n",
    "reload(\"Potentials\")\n",
    "reload(\"TightBinding\")\n",
    "reload(\"NRLTB\")    \n",
    "BOHR = 0.52917721092 \n",
    "\n",
    "set_pbc!(at, [false, false, true])\n",
    "tbm = NRLTB.NRLTBModel(elem = NRLTB.Al_spd)\n",
    "tbm.nkpoints = (2,2,0)\n",
    "\n",
    "\n",
    "X = positions(at)\n",
    "f = TightBinding.potential_energy(at, tbm)\n",
    "df = TightBinding.forces(at, tbm)[:] # / BOHR\n",
    "    println(\"-----------------------------\")\n",
    "    println(\"  p | error \")\n",
    "    println(\"----|------------------------\")\n",
    "for p = 2:10\n",
    "    h = 0.1^p \n",
    "    dfh = zeros(length(df))\n",
    "    for n = 1:length(df)\n",
    "        X[n] += h\n",
    "        set_positions!(at, X)\n",
    "        dfh[n] = (TightBinding.potential_energy(at, tbm) - f) / h\n",
    "        X[n] -= h\n",
    "    end\n",
    "    @printf(\" %2d | %1.7e \\n\", p, norm(dfh + df, Inf))\n",
    "end\n",
    "println(\"-----------------------------\")"
   ]
  },
  {
   "cell_type": "markdown",
   "metadata": {
    "collapsed": true
   },
   "source": [
    "## TEST site energy and site force"
   ]
  },
  {
   "cell_type": "code",
   "execution_count": 3,
   "metadata": {
    "collapsed": false
   },
   "outputs": [
    {
     "name": "stderr",
     "output_type": "stream",
     "text": [
      "WARNING: replacing module SparseTools\n",
      "WARNING: replacing module Potentials\n",
      "WARNING: replacing module TightBinding\n"
     ]
    },
    {
     "name": "stdout",
     "output_type": "stream",
     "text": [
      "E - ∑ E_i = 1.7763568394002505e-15\n",
      "------------------------------\n",
      "Finite-difference test\n",
      "-----------------------------\n",
      "  p | error \n",
      "----|------------------------\n",
      "  2 | 1.8566967e-04 \n",
      "  3 | 1.8596652e-05 \n",
      "  4 | 1.8599778e-06 \n",
      "  5 | 1.8603239e-07 \n",
      "  6 | 2.0431525e-08 \n",
      "  7 | 2.7374072e-08 \n",
      "  8 | 3.2581899e-07 \n",
      "  9 | 1.3966640e-06 \n",
      " 10 | 1.6372396e-05 \n",
      " 11 | 1.7062366e-04 \n",
      " 12 | 1.6298718e-03 \n",
      "-----------------------------\n"
     ]
    }
   ],
   "source": [
    "# TEST NRL-TB site energy for Aluminum FCC\n",
    "# WITH open BOUNDARY CONDITION ON THIRD DIMENSION\n",
    "\n",
    "using AtomsInterface\n",
    "reload(\"SparseTools\")\n",
    "reload(\"Potentials\")\n",
    "reload(\"TightBinding\")\n",
    "reload(\"NRLTB\")  \n",
    "\n",
    "set_pbc!(at, [false, false, false])\n",
    "tbm = NRLTB.NRLTBModel(elem = NRLTB.Al_spd)\n",
    "tbm.nkpoints = (0,0,0)\n",
    "\n",
    "X = positions(at)\n",
    "\n",
    "Es_all = TightBinding.site_energy([1:length(at);], at, tbm)\n",
    "Etot = TightBinding.potential_energy(at, tbm)\n",
    "println(\"E - ∑ E_i = \", Etot - r_sum(Es_all))\n",
    "println(\"------------------------------\")\n",
    "\n",
    "println(\"Finite-difference test\")\n",
    "Es = TightBinding.site_energy(1, at, tbm)\n",
    "Fs = TightBinding.site_forces(1, at, tbm)[:]\n",
    "\n",
    "println(\"-----------------------------\")\n",
    "println(\"  p | error \")\n",
    "println(\"----|------------------------\")\n",
    "for p = 2:12\n",
    "    h = 0.1^p \n",
    "    dEsh = zeros(length(Fs))\n",
    "    for n = 1:length(Fs)\n",
    "        X[n] += h\n",
    "        set_positions!(at, X)\n",
    "        dEsh[n] = (TightBinding.site_energy(1, at, tbm) - Es) / h\n",
    "        X[n] -= h\n",
    "    end\n",
    "    @printf(\" %2d | %1.7e \\n\", p, norm(dEsh + Fs, Inf))\n",
    "end\n",
    "println(\"-----------------------------\")"
   ]
  },
  {
   "cell_type": "code",
   "execution_count": 11,
   "metadata": {
    "collapsed": false
   },
   "outputs": [
    {
     "name": "stderr",
     "output_type": "stream",
     "text": [
      "WARNING: replacing module SparseTools\n",
      "WARNING: replacing module Potentials\n",
      "WARNING: replacing module TightBinding\n",
      "WARNING: replacing module NRLTB\n"
     ]
    },
    {
     "name": "stdout",
     "output_type": "stream",
     "text": [
      "E - ∑ E_i = -1.7763568394002505e-15\n",
      "------------------------------\n",
      "Finite-difference test\n",
      "-----------------------------\n",
      "  p | error \n",
      "----|------------------------\n",
      "  2 | 4.0478141e-04 \n",
      "  3 | 4.0374202e-05 \n",
      "  4 | 4.0363689e-06 \n",
      "  5 | 4.0347931e-07 \n",
      "  6 | 4.1744386e-08 \n",
      "  7 | 3.1675312e-08 \n",
      "  8 | 2.0657823e-07 \n",
      "  9 | 1.7763568e-06 \n",
      " 10 | 1.7598920e-05 \n",
      " 11 | 2.7367671e-04 \n",
      " 12 | 1.7763568e-03 \n",
      "-----------------------------\n"
     ]
    }
   ],
   "source": [
    "# TEST NRL-TB site energy for Aluminum FCC\n",
    "# WITH periodic BOUNDARY CONDITION ON THIRD DIMENSION\n",
    "\n",
    "using AtomsInterface\n",
    "reload(\"SparseTools\")\n",
    "reload(\"Potentials\")\n",
    "reload(\"TightBinding\")\n",
    "reload(\"NRLTB\")  \n",
    "\n",
    "set_pbc!(at, [false, false, true])\n",
    "tbm = NRLTB.NRLTBModel(elem = NRLTB.Al_spd)\n",
    "tbm.nkpoints = (0,0,0)\n",
    "\n",
    "X = positions(at)\n",
    "\n",
    "Es_all = TightBinding.site_energy([1:length(at);], at, tbm)\n",
    "Etot = TightBinding.potential_energy(at, tbm)\n",
    "println(\"E - ∑ E_i = \", Etot - r_sum(Es_all))\n",
    "println(\"------------------------------\")\n",
    "\n",
    "println(\"Finite-difference test\")\n",
    "Es = TightBinding.site_energy(1, at, tbm)\n",
    "Fs = TightBinding.site_forces(1, at, tbm)[:]\n",
    "\n",
    "println(\"-----------------------------\")\n",
    "println(\"  p | error \")\n",
    "println(\"----|------------------------\")\n",
    "for p = 2:12\n",
    "    h = 0.1^p \n",
    "    dEsh = zeros(length(Fs))\n",
    "    for n = 1:length(Fs)\n",
    "        X[n] += h\n",
    "        set_positions!(at, X)\n",
    "        dEsh[n] = (TightBinding.site_energy(1, at, tbm) - Es) / h\n",
    "        X[n] -= h\n",
    "    end\n",
    "    @printf(\" %2d | %1.7e \\n\", p, norm(dEsh + Fs, Inf))\n",
    "end\n",
    "println(\"-----------------------------\")"
   ]
  },
  {
   "cell_type": "markdown",
   "metadata": {},
   "source": [
    "### performance "
   ]
  },
  {
   "cell_type": "code",
   "execution_count": 24,
   "metadata": {
    "collapsed": false
   },
   "outputs": [
    {
     "name": "stderr",
     "output_type": "stream",
     "text": [
      "WARNING: replacing module SparseTools\n",
      "WARNING: replacing module Potentials\n",
      "WARNING: replacing module TightBinding\n",
      "WARNING: replacing module NRLTB\n"
     ]
    },
    {
     "name": "stdout",
     "output_type": "stream",
     "text": [
      "ctr = 331776\n",
      "  3.715835 seconds (9.36 M allocations: 1.757 GB, 8.19% gc time)\n",
      "ctr = 17978112\n",
      " 15.347712 seconds (111.72 M allocations: 2.286 GB, 3.60% gc time)\n",
      "ctr = 331776\n",
      "  1.342842 seconds (5.29 M allocations: 1.259 GB, 16.70% gc time)\n",
      "ctr = 17978112\n",
      " 15.253434 seconds (111.57 M allocations: 2.280 GB, 3.55% gc time)\n"
     ]
    }
   ],
   "source": [
    "reload(\"SparseTools\")\n",
    "reload(\"Potentials\")\n",
    "reload(\"TightBinding\")\n",
    "reload(\"NRLTB\")    \n",
    "\n",
    "at = bulk(\"Al\"; cubic=true)\n",
    "at = repeat(at, (2, 2, 2))\n",
    "set_pbc!(at, [true, true, true])\n",
    "tbm = NRLTB.NRLTBModel(elem = NRLTB.Al_spd)\n",
    "tbm.nkpoints = (0,0,2)\n",
    "\n",
    "@time df = TightBinding.forces(at, tbm)[:];\n",
    "@time df = TightBinding.forces_(at, tbm)[:];\n",
    "@time df = TightBinding.forces(at, tbm)[:];\n",
    "@time df = TightBinding.forces_(at, tbm)[:];"
   ]
  },
  {
   "cell_type": "markdown",
   "metadata": {},
   "source": [
    "# Performance Tests (CO)"
   ]
  },
  {
   "cell_type": "code",
   "execution_count": 1,
   "metadata": {
    "collapsed": false
   },
   "outputs": [],
   "source": [
    "push!(LOAD_PATH, \"..\")\n",
    "using ASE, TestAtoms\n",
    "import TightBinding\n",
    "import NRLTB\n",
    "import ProfileView, Base.Profile"
   ]
  },
  {
   "cell_type": "code",
   "execution_count": 3,
   "metadata": {
    "collapsed": false
   },
   "outputs": [
    {
     "name": "stdout",
     "output_type": "stream",
     "text": [
      "-----------------------------\n",
      "  p | error \n",
      "----|------------------------\n",
      "  2 | 1.6082659e-03 \n",
      "  3 | 1.6084285e-04 \n",
      "  4 | 1.6084343e-05 \n",
      "  5 | 1.6093793e-06 \n",
      "  6 | 1.7053026e-07 \n",
      "  7 | 1.4210855e-07 \n",
      "  8 | 1.4210855e-06 \n",
      "  9 | 9.0469449e-06 \n",
      " 10 | 1.1677271e-04 \n",
      "-----------------------------\n",
      "  0.035420 seconds (49.74 k allocations: 21.602 MB, 6.34% gc time)\n",
      "  0.039333 seconds (49.51 k allocations: 21.567 MB, 11.82% gc time)\n",
      "  0.037315 seconds (49.51 k allocations: 21.567 MB, 6.98% gc time)\n",
      "  0.037895 seconds (49.46 k allocations: 21.556 MB, 6.05% gc time)\n",
      "  0.046265 seconds (138.00 k allocations: 35.888 MB, 13.48% gc time)\n",
      "  0.035591 seconds (138.00 k allocations: 35.888 MB, 5.70% gc time)\n",
      "  0.040717 seconds (138.00 k allocations: 35.888 MB, 10.11% gc time)\n",
      "  0.038626 seconds (138.00 k allocations: 35.888 MB, 10.85% gc time)\n"
     ]
    }
   ],
   "source": [
    "at = bulk(\"Al\"; cubic=true)\n",
    "at = repeat(at, (2, 2, 1))\n",
    "set_pbc!(at, [false, false, true])\n",
    "X = positions(at)\n",
    "tbm = NRLTB.NRLTBModel(elem = NRLTB.Al_spd)\n",
    "# tbm = TightBinding.ToyTB.ToyTBModel()\n",
    "tbm.nkpoints = (0,0,0)\n",
    "TestAtoms.test_potentialenergy(tbm, at)\n",
    "set_positions!(at, X+0.1*rand(size(X)))\n",
    "@time E = TightBinding.potential_energy(at, tbm)\n",
    "set_positions!(at, X+0.1*rand(size(X)))\n",
    "@time E = TightBinding.potential_energy(at, tbm)\n",
    "set_positions!(at, X+0.1*rand(size(X)))\n",
    "@time E = TightBinding.potential_energy(at, tbm)\n",
    "set_positions!(at, X+0.1*rand(size(X)))\n",
    "@time E = TightBinding.potential_energy(at, tbm)\n",
    "\n",
    "@time df = TightBinding.forces(at, tbm);\n",
    "@time df = TightBinding.forces(at, tbm);\n",
    "@time df = TightBinding.forces(at, tbm);\n",
    "@time df = TightBinding.forces(at, tbm);\n",
    "\n",
    "# TightBinding.forces_debug(at, tbm)\n",
    ";"
   ]
  },
  {
   "cell_type": "code",
   "execution_count": 13,
   "metadata": {
    "collapsed": false
   },
   "outputs": [],
   "source": [
    "@code_warntype TightBinding.hamiltonian(at, tbm, rand(3))"
   ]
  },
  {
   "cell_type": "code",
   "execution_count": 3,
   "metadata": {
    "collapsed": false
   },
   "outputs": [],
   "source": [
    "\n",
    "\n",
    "at = bulk(\"Al\"; cubic=true)\n",
    "at = repeat(at, (4, 4, 1))\n",
    "X = positions(at)\n",
    "set_pbc!(at, [false, false, true])\n",
    "tbm = NRLTB.NRLTBModel(elem = NRLTB.Al_spd)\n",
    "# tbm = TightBinding.ToyTB.ToyTBModel()\n",
    "tbm.nkpoints = (0,0,4)\n",
    "\n",
    "Profile.clear()\n",
    "@profile f = TightBinding.potential_energy(at, tbm);\n",
    "set_positions!(at, X+0.1*rand(size(X)))\n",
    "@profile f = TightBinding.potential_energy(at, tbm);\n"
   ]
  },
  {
   "cell_type": "code",
   "execution_count": null,
   "metadata": {
    "collapsed": false,
    "scrolled": true
   },
   "outputs": [],
   "source": [
    "ProfileView.view()"
   ]
  },
  {
   "cell_type": "code",
   "execution_count": null,
   "metadata": {
    "collapsed": false
   },
   "outputs": [],
   "source": []
  },
  {
   "cell_type": "markdown",
   "metadata": {
    "collapsed": true
   },
   "source": [
    "### Test ForwardDiff for dH, d2H, and d3H"
   ]
  },
  {
   "cell_type": "code",
   "execution_count": 33,
   "metadata": {
    "collapsed": false
   },
   "outputs": [
    {
     "name": "stderr",
     "output_type": "stream",
     "text": [
      "WARNING: replacing module NRLTB\n"
     ]
    },
    {
     "name": "stdout",
     "output_type": "stream",
     "text": [
      "-----------------------------\n"
     ]
    },
    {
     "ename": "LoadError",
     "evalue": "LoadError: MethodError: `mat_local!` has no method matching mat_local!(::Float64, ::Array{Float64,1}, ::NRLTB.NRLParams, ::Array{Float64,1}, ::Float64)\nClosest candidates are:\n  mat_local!(::Float64, ::Array{Float64,1}, ::NRLTB.NRLParams, ::Array{Float64,1}, !Matched::Array{Float64,2})\nwhile loading In[33], in expression starting on line 14",
     "output_type": "error",
     "traceback": [
      "LoadError: MethodError: `mat_local!` has no method matching mat_local!(::Float64, ::Array{Float64,1}, ::NRLTB.NRLParams, ::Array{Float64,1}, ::Float64)\nClosest candidates are:\n  mat_local!(::Float64, ::Array{Float64,1}, ::NRLTB.NRLParams, ::Array{Float64,1}, !Matched::Array{Float64,2})\nwhile loading In[33], in expression starting on line 14",
      "",
      " in mat_local_h! at /home/hjchen/lujia_atoms/Atoms.jl/NRLTB.jl:409",
      " [inlined code] from In[33]:19",
      " in anonymous at no file:18"
     ]
    },
    {
     "name": "stdout",
     "output_type": "stream",
     "text": [
      "  p | error \n",
      "----|------------------------\n"
     ]
    }
   ],
   "source": [
    "# TEST the ForwardDiff for NRL-TB hamiltonian derivatives\n",
    "import NRLTB\n",
    "reload(\"NRLTB\")\n",
    "BOHR = 0.52917721092 \n",
    "a = rand(3)*6\n",
    "\n",
    "h = zeros(4,4)\n",
    "dh = zeros(3,4,4)\n",
    "f = NRLTB.mat_local_h!(norm(a)/BOHR, a/BOHR, NRLTB.C_sp, h, zeros(4))\n",
    "df = NRLTB.mat_local_dh!(a/BOHR, NRLTB.C_sp, dh)\n",
    "println(\"-----------------------------\")\n",
    "println(\"  p | error \")\n",
    "println(\"----|------------------------\")\n",
    "for p = 2:12\n",
    "    h = 0.1^p\n",
    "    dfh = zeros(size(df))\n",
    "    for n = 1:3\n",
    "        a[n] += h\n",
    "        fh = NRLTB.mat_local_h!(norm(a)/BOHR, a/BOHR, NRLTB.C_sp, h, zeros(4))\n",
    "        dfh[n,:] = (fh - f) / h\n",
    "        a[n] -= h\n",
    "    end\n",
    "    err = reshape(dfh - df, 3*81)\n",
    "    @printf(\" %2d | %1.7e \\n\", p, norm(err,Inf))\n",
    "end\n",
    "println(\"-----------------------------\")"
   ]
  }
 ],
 "metadata": {
  "kernelspec": {
   "display_name": "Julia 0.4.0-rc4",
   "language": "julia",
   "name": "julia-0.4"
  },
  "language_info": {
   "file_extension": ".jl",
   "mimetype": "application/julia",
   "name": "julia",
   "version": "0.4.1"
  }
 },
 "nbformat": 4,
 "nbformat_minor": 0
}
