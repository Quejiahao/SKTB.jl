{
 "cells": [
  {
   "cell_type": "code",
   "execution_count": 1,
   "metadata": {
    "collapsed": false
   },
   "outputs": [
    {
     "data": {
      "text/plain": [
       "300"
      ]
     },
     "execution_count": 1,
     "metadata": {},
     "output_type": "execute_result"
    }
   ],
   "source": [
    "push!(LOAD_PATH, \"..\")\n",
    "using ASE\n",
    "using MatSciPy\n",
    "using PyPlot\n",
    "using PyCall\n",
    "using TightBinding\n",
    "import NRLTB\n",
    "\n",
    "# displacement of one atom\n",
    "δ = 0.2\n",
    "# temperature\n",
    "TEMPE = 300\n"
   ]
  },
  {
   "cell_type": "code",
   "execution_count": 5,
   "metadata": {
    "collapsed": false
   },
   "outputs": [
    {
     "name": "stdout",
     "output_type": "stream",
     "text": [
      "64\n",
      "[16.2 0.0 0.0\n",
      " 0.0 16.2 0.0\n",
      " 0.0 0.0 4.05]\n"
     ]
    }
   ],
   "source": [
    "\n",
    "at = bulk(\"Al\"; cubic=true)\n",
    "at = repeat(at, (4, 4, 1))\n",
    "set_pbc!(at, [true, true, true])\n",
    "Xref = positions(at)\n",
    "\n",
    "tbm = NRLTB.NRLTBModel(elem = NRLTB.Al_spd)\n",
    "tbm.nkpoints = (4,4,8)\n",
    "TightBinding.update_eF!(at, tbm)\n",
    "\n",
    "# #plot3D(X[1,:][:], X[2,:][:], X[3,:][:], \"b.\")\n",
    "# #plot3D(X[1,1:1], X[2,1:1], X[3,1:1], \"ro\")\n",
    "println(length(at))\n",
    "println(cell(at));"
   ]
  },
  {
   "cell_type": "code",
   "execution_count": 6,
   "metadata": {
    "collapsed": false
   },
   "outputs": [
    {
     "data": {
      "text/plain": [
       "3x64 Array{Float64,2}:\n",
       " -0.0492183    -0.000609343   0.0148025    …   0.000488177  0.00506205 \n",
       " -9.36436e-17  -0.000726466  -9.10293e-17      0.000516593  0.00456735 \n",
       "  1.92375e-17  -3.08702e-17  -5.07132e-19     -1.35795e-18  8.09281e-18"
      ]
     },
     "execution_count": 6,
     "metadata": {},
     "output_type": "execute_result"
    }
   ],
   "source": [
    "# move one atom and test the force\n",
    "X = copy(Xref); X[1,1] += δ\n",
    "set_positions!(at, X)\n",
    "\n",
    "# one needs to compute Fermi-level again\n",
    "# K, E = TightBinding.band_structure(at, tbm)\n",
    "tbm.fixed_eF = true\n",
    "tbm.smearing.beta = TEMPE\n",
    "# TightBinding.update_eF!(at, tbm)\n",
    "\n",
    "frc1 = TightBinding.forces(at, tbm)"
   ]
  },
  {
   "cell_type": "code",
   "execution_count": 7,
   "metadata": {
    "collapsed": false
   },
   "outputs": [
    {
     "data": {
      "image/png": "[encoded data removed]",
      "text/plain": [
       "PyPlot.Figure(PyObject <matplotlib.figure.Figure object at 0x312c9e5d0>)"
      ]
     },
     "metadata": {},
     "output_type": "display_data"
    },
    {
     "data": {
      "text/plain": [
       "1-element Array{Any,1}:\n",
       " PyObject <matplotlib.lines.Line2D object at 0x316dd2610>"
      ]
     },
     "execution_count": 7,
     "metadata": {},
     "output_type": "execute_result"
    }
   ],
   "source": [
    "L = cell(at)[1,1]\n",
    "\n",
    "F = zeros(length(at))\n",
    "Z = zeros(length(at))  # periodic distance\n",
    "\n",
    "for j = 1:length(at)\n",
    "    F[j] = norm(frc1[:,j])\n",
    "    Z[j] = min( norm(X[:,j]), norm(X[:,j]-[L, 0, 0]), \n",
    "                norm(X[:,j]-[0, L, 0]), norm(X[:,j]-[0, 0, L]), \n",
    "                norm(X[:,j]-[0, L, L]), norm(X[:,j]-[L, 0, L]), \n",
    "                norm(X[:,j]-[L, L, 0]), norm(X[:,j]-[L, L, L]) )\n",
    "end\n",
    "semilogy(Z, F, \"*\")"
   ]
  },
  {
   "cell_type": "code",
   "execution_count": null,
   "metadata": {
    "collapsed": true
   },
   "outputs": [],
   "source": []
  },
  {
   "cell_type": "code",
   "execution_count": 31,
   "metadata": {
    "collapsed": false
   },
   "outputs": [
    {
     "ename": "LoadError",
     "evalue": "LoadError: Base.LinAlg.PosDefException(3444)\nwhile loading In[31], in expression starting on line 11",
     "output_type": "error",
     "traceback": [
      "LoadError: Base.LinAlg.PosDefException(3444)\nwhile loading In[31], in expression starting on line 11",
      "",
      " in sygvd! at linalg/lapack.jl:4190",
      " in eigfact! at linalg/symmetric.jl:162",
      " in eigfact at linalg/eigen.jl:148",
      " in sorted_eig at /Users/ortner/gits/Atoms.jl/TightBinding.jl:172",
      " in update_eig! at /Users/ortner/gits/Atoms.jl/TightBinding.jl:332",
      " in update! at /Users/ortner/gits/Atoms.jl/TightBinding.jl:352",
      " in forces at /Users/ortner/gits/Atoms.jl/TightBinding.jl:662"
     ]
    }
   ],
   "source": [
    "# Now try to perturb all atoms randomly.\n",
    "# =========================================\n",
    "# construct a gaussian-like perturbation (a bit naive, but why not?!)\n",
    "r0 = rnn(\"Al\")\n",
    "u = randn(3, length(at)) * r0 / 10;\n",
    "u[:] = max(min(u[:], r0/5), - r0/5)\n",
    "# compute forces in this state\n",
    "X0 = Xref + u; set_positions!(at, X0)\n",
    "f0 = TightBinding.forces(at, tbm)\n",
    "# now perturb this state\n",
    "X1 = copy(X0); X1[1,1] += delta\n",
    "f1 = TightBinding.forces(at, tbm)\n",
    "# compare f0 - f1\n",
    "\n",
    "\n",
    "\n"
   ]
  },
  {
   "cell_type": "code",
   "execution_count": null,
   "metadata": {
    "collapsed": true
   },
   "outputs": [],
   "source": []
  },
  {
   "cell_type": "code",
   "execution_count": null,
   "metadata": {
    "collapsed": true
   },
   "outputs": [],
   "source": []
  }
 ],
 "metadata": {
  "kernelspec": {
   "display_name": "Julia 0.4.3",
   "language": "julia",
   "name": "julia-0.4"
  },
  "language_info": {
   "file_extension": ".jl",
   "mimetype": "application/julia",
   "name": "julia",
   "version": "0.4.3"
  }
 },
 "nbformat": 4,
 "nbformat_minor": 0
}
