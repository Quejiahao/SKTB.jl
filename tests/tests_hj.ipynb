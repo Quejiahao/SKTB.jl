{
 "cells": [
  {
   "cell_type": "code",
   "execution_count": 21,
   "metadata": {
    "collapsed": false
   },
   "outputs": [],
   "source": [
    "ATOMPATH = \"../../Atoms.jl\"\n",
    "push!(LOAD_PATH, ATOMPATH)\n",
    "using ASE"
   ]
  },
  {
   "cell_type": "code",
   "execution_count": 81,
   "metadata": {
    "collapsed": false
   },
   "outputs": [
    {
     "data": {
      "text/plain": [
       "monkhorstpackgrid (generic function with 1 method)"
      ]
     },
     "execution_count": 81,
     "metadata": {},
     "output_type": "execute_result"
    }
   ],
   "source": [
    "function monkhorstpackgrid(cell, nkpoints)\n",
    "    # TODO HUAJIE\n",
    "\tkx, ky, kz = nkpoints\n",
    "\tif kx == 0 && ky == 0 && kz == 0\n",
    "\t\tK = [0.;0.;0.]\n",
    "\t\tweight = 1.0\n",
    "\telseif kx == 0 && ky == 0 && kz != 0\n",
    "\t\tK = zeros(kz, 3)\n",
    "\t\tweight = zeros(kz)\n",
    "\t\tv1 = cell[1,:][:]\n",
    "    \tv2 = cell[2,:][:]\n",
    "    \tv3 = cell[3,:][:]\n",
    "    \tc12 = cross(v1,v2)\n",
    "    \tb3 = 2 * π * c12 / dot(v3,c12)\n",
    "    \tk_step = b3 / (kz+1)\n",
    "    \tw_step = norm(b3) / (kz+1)\n",
    "    \tfor k = 1:kz\n",
    "        \tK[k,:] = -b3/2 + k * k_step\n",
    "        \tweight[k] = w_step\n",
    "    \tend\n",
    "\telse\n",
    "\t\terror(\"This boundary condition has not been implemented yet!\")\n",
    "\tend\n",
    "\treturn K, weight\n",
    "end\n"
   ]
  },
  {
   "cell_type": "code",
   "execution_count": 131,
   "metadata": {
    "collapsed": false
   },
   "outputs": [
    {
     "name": "stdout",
     "output_type": "stream",
     "text": [
      "ASE.ASEAtoms(PyObject Atoms(symbols='Al25', positions=..., cell=[[0.0, 10.125, 10.125], [10.125, 0.0, 10.125], [2.025, 2.025, 0.0]], pbc=[True, True, True]))ASE.ASENeighborList(PyObject <ase.calculators.neighborlist.NeighborList instance at 0x4514e18>,[2.0,2.0,2.0,2.0,2.0,2.0,2.0,2.0,2.0,2.0,2.0,2.0,2.0,2.0,2.0,2.0,2.0,2.0,2.0,2.0,2.0,2.0,2.0,2.0,2.0])"
     ]
    }
   ],
   "source": [
    "at = bulk(\"Al\")\n",
    "atm = repeat(at, (5, 5, 1))\n",
    "print(atm)\n",
    "nlist = ASENeighborList(atm, 2.0)\n",
    "print(nlist)"
   ]
  },
  {
   "cell_type": "code",
   "execution_count": 130,
   "metadata": {
    "collapsed": false
   },
   "outputs": [
    {
     "data": {
      "text/plain": [
       "ASE.ASENeighborList(PyObject <ase.calculators.neighborlist.NeighborList instance at 0x427f128>,[4.0,4.0,4.0,4.0,4.0,4.0,4.0,4.0,4.0,4.0  …  4.0,4.0,4.0,4.0,4.0,4.0,4.0,4.0,4.0,4.0])"
      ]
     },
     "execution_count": 130,
     "metadata": {},
     "output_type": "execute_result"
    }
   ],
   "source": [
    "nlist"
   ]
  },
  {
   "cell_type": "code",
   "execution_count": 122,
   "metadata": {
    "collapsed": false
   },
   "outputs": [
    {
     "data": {
      "text/plain": [
       "(\n",
       "4x3 Array{Float64,2}:\n",
       " 0.0       0.0       -0.0     \n",
       " 0.258567  0.258567  -0.258567\n",
       " 0.517135  0.517135  -0.517135\n",
       " 0.775702  0.775702  -0.775702,\n",
       "\n",
       "[1.4478516948726465,2.895703389745293,2.895703389745293,1.4478516948726465])"
      ]
     },
     "execution_count": 122,
     "metadata": {},
     "output_type": "execute_result"
    }
   ],
   "source": [
    "K, weight = monkhorstpackgrid(cell(atm), nk)"
   ]
  },
  {
   "cell_type": "code",
   "execution_count": 110,
   "metadata": {
    "collapsed": false
   },
   "outputs": [
    {
     "data": {
      "text/plain": [
       "monkhorstpackgrid (generic function with 1 method)"
      ]
     },
     "execution_count": 110,
     "metadata": {},
     "output_type": "execute_result"
    }
   ],
   "source": [
    "function monkhorstpackgrid(cell, nkpoints)\n",
    "    # TODO HUAJIE\n",
    "\tkx, ky, kz = nkpoints\n",
    "\tif kx != 0 || ky != 0\n",
    "\t\terror(\"This boundary condition has not been implemented yet!\")\n",
    "\tend\n",
    "\tif kz != 0 && mod(kz,2) == 0\n",
    "\t\terror(\"It is better to choos k as an odd number so that Γ point is included!\")\n",
    "\tend\n",
    "\tif kz == 0\n",
    "\t\tK = [0.;0.;0.]\n",
    "\t\tweight = 1.0\n",
    "\tend\n",
    "\tif kz != 0 && mod(kz,2) != 0\n",
    "\t\t# allocate space, note that symmetry of k-space can be applied\n",
    "\t\tnk = Int((kz+1)/2)\n",
    "\t\tK = zeros(nk, 3)\n",
    "\t\tweight = zeros(nk)\n",
    "\t\t# compute the lattice vector of reciprocal space\n",
    "\t\tv1 = cell[1,:][:]\n",
    "    \tv2 = cell[2,:][:]\n",
    "    \tv3 = cell[3,:][:]\n",
    "    \tc12 = cross(v1,v2)\n",
    "    \tb3 = 2 * π * c12 / dot(v3,c12)\n",
    "\t\t# evaluate K and weight\n",
    "    \tk_step = b3 / (kz+1)\n",
    "    \tw_step = norm(b3) / (kz+1)\n",
    "    \tfor k = 1:nk\n",
    "        \tK[k,:] = (k-1) * k_step\n",
    "        \tweight[k] = w_step * 2.0  ## CHECK\n",
    "    \tend\n",
    "\telse\n",
    "\t\terror(\"This boundary condition has not been implemented yet!\")\n",
    "\tend\n",
    "\treturn K, weight\n",
    "end\n"
   ]
  },
  {
   "cell_type": "code",
   "execution_count": 111,
   "metadata": {
    "collapsed": false
   },
   "outputs": [
    {
     "data": {
      "text/plain": [
       "3.0"
      ]
     },
     "execution_count": 111,
     "metadata": {},
     "output_type": "execute_result"
    }
   ],
   "source": [
    "a=3.0"
   ]
  },
  {
   "cell_type": "code",
   "execution_count": 105,
   "metadata": {
    "collapsed": false
   },
   "outputs": [
    {
     "data": {
      "text/plain": [
       "3"
      ]
     },
     "execution_count": 105,
     "metadata": {},
     "output_type": "execute_result"
    }
   ],
   "source": [
    "Int(a)"
   ]
  },
  {
   "cell_type": "code",
   "execution_count": 114,
   "metadata": {
    "collapsed": false
   },
   "outputs": [
    {
     "data": {
      "text/plain": [
       "monkhorstpackgrid (generic function with 1 method)"
      ]
     },
     "execution_count": 114,
     "metadata": {},
     "output_type": "execute_result"
    }
   ],
   "source": [
    "\n",
    "# HUAJIE ------------------------------------------------------------------------\n",
    "function monkhorstpackgrid(cell, nkpoints)\n",
    "\tkx, ky, kz = nkpoints\n",
    "\tif kx != 0 || ky != 0\n",
    "\t\terror(\"This boundary condition has not been implemented yet!\")\n",
    "\tend\n",
    "\t# open boundarycondition\n",
    "\tif kz == 0 || kz == 1\n",
    "\t\tK = [0.;0.;0.]\n",
    "\t\tweight = 1.0\n",
    "\telse\n",
    "\t\tif mod(kz,2) == 1\n",
    "\t\t\terror(\"k should be an even number in Monkhorst-Pack grid!\")\n",
    "\t\tend\n",
    "   \t\t# compute the lattice vector of reciprocal space\n",
    "\t\tv1 = cell[1,:][:]\n",
    "    \tv2 = cell[2,:][:]\n",
    "    \tv3 = cell[3,:][:]\n",
    "    \tc12 = cross(v1,v2)\n",
    "    \tb3 = 2 * π * c12 / dot(v3,c12)\n",
    "\t\t# K = {b/kz * j + shift}_{j=-kz/2+1,...,kz/2} with shift = 0.0\n",
    "\t\t# so we can exploit the symmetry of the brillouin zone \n",
    "\t\tnk = Int(kz/2) + 1\n",
    "\t\tK = zeros(nk, 3)\n",
    "\t\tweight = zeros(nk)\n",
    "\t\tk_step = b3 / kz\n",
    "    \tw_step = norm(b3) / kz+1\n",
    "    \tfor k = 1:nk\n",
    "        \tK[k,:] = (k-1) * k_step\n",
    "\t\t\tif k == 1 || k == nk\n",
    "\t        \tweight[k] = w_step\n",
    "\t\t\telse \n",
    "\t        \tweight[k] = w_step * 2.0 \n",
    "\t\t\tend\n",
    "    \tend\n",
    "\tend\n",
    "\treturn K, weight\n",
    "end\n"
   ]
  },
  {
   "cell_type": "code",
   "execution_count": null,
   "metadata": {
    "collapsed": true
   },
   "outputs": [],
   "source": []
  }
 ],
 "metadata": {
  "kernelspec": {
   "display_name": "Julia 0.4.0-rc4",
   "language": "julia",
   "name": "julia-0.4"
  },
  "language_info": {
   "file_extension": ".jl",
   "mimetype": "application/julia",
   "name": "julia",
   "version": "0.4.0"
  }
 },
 "nbformat": 4,
 "nbformat_minor": 0
}
